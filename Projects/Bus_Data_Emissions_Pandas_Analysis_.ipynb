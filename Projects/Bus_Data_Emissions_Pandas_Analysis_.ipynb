{
  "nbformat": 4,
  "nbformat_minor": 0,
  "metadata": {
    "colab": {
      "provenance": [],
      "collapsed_sections": [],
      "include_colab_link": true
    },
    "kernelspec": {
      "name": "python3",
      "display_name": "Python 3"
    },
    "language_info": {
      "name": "python"
    }
  },
  "cells": [
    {
      "cell_type": "markdown",
      "metadata": {
        "id": "view-in-github",
        "colab_type": "text"
      },
      "source": [
        "<a href=\"https://colab.research.google.com/github/futureCodersSE/python-programming-for-data/blob/main/Projects/Bus_Data_Emissions_Pandas_Analysis_.ipynb\" target=\"_parent\"><img src=\"https://colab.research.google.com/assets/colab-badge.svg\" alt=\"Open In Colab\"/></a>"
      ]
    },
    {
      "cell_type": "markdown",
      "source": [
        "# Analyising the bus data challenges\n",
        "---\n",
        "\n",
        "In the previous notebook, you simplified and cleaned all the pulled data in order to create a single dataframe which could then be analysed. \n",
        "\n",
        "In this notebook, you will be creating a set of reusable functions that will be vital for analysing the data.\n",
        "\n",
        "It is essential that these functions have meaningul names and are reusable (that means good use of parameters, variables etc) so that they can be used elsewhere in the project and on different sets of bus data (eg from different days).\n",
        "This is great practice of building robust, scalable code. \n",
        "\n",
        "The ultimate goal of the project, is to find out how much of an effect on the air quality old buses (eg. Euro III) are having and how many harmful emissions are being produced, in the AQMA. \n",
        "\n",
        "The goal of this notebooks analysis is to build a picture of how much harmful emissions are being produced by each type of bus, and what is the effect of the Euro III buses emissions on the overall bus emissions in the AQMA. \n",
        "\n",
        "To do this, we need to find out:   \n",
        "* how far each type of bus has travelled in a particular day\n",
        "* what percentage of that days buses were each type of bus \n",
        "* what was the total emissions produced on that day for each type of bus \n",
        "* what percentage of the total emissions for all of the buses in a day is each type of bus producing \n",
        "* Same as above, but narrowed down to buses that have passed through the AQMA \n",
        "\n",
        "For the purpose of testing, you will be using a smaller set of data which only has 1 hour of bus data, but by writing reusable functions, it will be easy to parse the large days data through the same functions!"
      ],
      "metadata": {
        "id": "Bun1eY47coDy"
      }
    },
    {
      "cell_type": "markdown",
      "source": [
        "### Importing the data\n",
        "---\n",
        "\n",
        "**Run the code cell below** to retrieve the dataframes you created in the simplification notebook. \n",
        "\n",
        "Click accept when asked for Google Drive access, so it can access the bus data folder in your drive. "
      ],
      "metadata": {
        "id": "8IRARVVue8mw"
      }
    },
    {
      "cell_type": "code",
      "source": [
        "import os\n",
        "import pandas as pd\n",
        "import json \n",
        "from google.colab import drive\n",
        "\n",
        "def mount_drive(data_path):\n",
        "  drive.mount('/content/drive', force_remount=True)\n",
        "  project_dir = \"/content/drive/MyDrive/\" + data_path\n",
        "  return project_dir\n",
        "\n",
        "def unmount_drive():\n",
        "  drive.flush_and_unmount()\n",
        "  print('Drive Unmounted')\n",
        "\n",
        "def get_file_names(project_dir):\n",
        "  path = os.path.join(os.getcwd(),project_dir)\n",
        "  print(path)\n",
        "  filenames = [os.path.join(path,i) for i in os.listdir(path) if os.path.isfile(os.path.join(path,i))]\n",
        "  return filenames\n",
        "\n",
        "\n",
        "def read_data(filename, read):\n",
        "  df1 = read(filename)\n",
        "  return df1\n",
        "\n",
        "\n",
        "def create_list_df(filenames, read):\n",
        "  df_list = []\n",
        "  for f in filenames:\n",
        "    df_list.append(read_data(f, read))\n",
        "  return df_list\n",
        "\n",
        "def create_df(df_list):\n",
        "  df = pd.DataFrame()\n",
        "  for d in df_list:\n",
        "    df = df.append(d)\n",
        "  return df\n",
        "\n",
        "def normalize_df(df, col):\n",
        "  df1 = pd.json_normalize(df[col])\n",
        "  return df1\n",
        "\n",
        "\n",
        "\n",
        "def remove_cols(d, cols_list):\n",
        "  for col in cols_list:\n",
        "    d.drop(col, axis=1, inplace=True)\n",
        "  return d\n",
        "\n",
        "def remove_dups(d):\n",
        "  print(\"old length: \", len(d))\n",
        "  d.drop_duplicates(inplace=True)\n",
        "  print(\"new_length: \", len(df))\n",
        "  return d\n",
        "\n",
        "def get_simplified_data_set(data_path):\n",
        "  project_dir = mount_drive(data_path)\n",
        "  filenames = get_file_names(project_dir)\n",
        "  df_list = create_list_df(filenames, pd.read_json)\n",
        "  df = create_df(df_list)\n",
        "  df1 = normalize_df(df, \"MonitoredVehicleJourney\")\n",
        "  df2 = remove_cols(df1, [\"DirectionRef\", \"PublishedLineName\", \"OperatorRef\", \"OriginRef\", \"DestinationRef\", \"DestinationAimedArrivalTime\", \"Bearing\", \"BlockRef\", \"FramedVehicleJourneyRef.DataFrameRef\", \"FramedVehicleJourneyRef.DatedVehicleJourneyRef\"])\n",
        "  return df2\n",
        "\n"
      ],
      "metadata": {
        "id": "k_R8BlQmeesJ"
      },
      "execution_count": null,
      "outputs": []
    },
    {
      "cell_type": "markdown",
      "source": [
        "### Preparation - re-create the simplified dataset and create a new, regs, dataset\n",
        "\n",
        "To complete the rest of this worksheet you will need two datasets:\n",
        "* the full dataset for the collected live bus data for the period recorded (e.g. OneHourOfData)\n",
        "* a dataframe containing data on each bus in the fleet\n",
        "\n",
        "Set the value of data_location to the full path to the data as it is on your Google Drive\n",
        "\n",
        "Use the function get_simplified_data_set() to get the table of bus journeys for the period\n",
        "\n",
        "Create a new dataframe called regs by reading the bus_regs.csv data from this link: https://raw.githubusercontent.com/futureCodersSE/python-programming-for-data/main/Datasets/bus_regs.csv\n",
        "\n",
        "Take a look at both dataframes to see what the data looks like."
      ],
      "metadata": {
        "id": "_nBGF8U80Bu0"
      }
    },
    {
      "cell_type": "code",
      "source": [
        "data_location = 'futureCoders-external-projects/Air-Quality-Karen-Eco-Hub/Bus-data/Data/OneHourOfData'\n",
        "\n",
        "simplified_buses = get_simplified_data_set(data_location)\n",
        "regs = pd.read_csv(\"https://raw.githubusercontent.com/futureCodersSE/python-programming-for-data/main/Datasets/bus_regs.csv\")"
      ],
      "metadata": {
        "id": "C85j-n3P1w9T"
      },
      "execution_count": null,
      "outputs": []
    },
    {
      "cell_type": "markdown",
      "source": [
        "### Task 1 - creating an emissions standard filtering function\n",
        "---\n",
        "The simplified dataframe is saved in `simplified_buses`, however in order to answer the next set of questions, it is necessary to have a function which seperates the dataset by emission class\n",
        "\n",
        "Write a function which takes a dataframe and an emission class as parameters and uses the *regs* dataframe to check for buses that are of the given emissions class.\n",
        "\n",
        "* create a variable inside the function which will filter the `regs` dataframe by the emission class and create a **list** of vehicle refs (these are in the `Last Tracked` column) only of those with the required emission class\n",
        "* filter the bus dataframe keeping only the rows where the `VehicleRef` is in the *regs list*\n",
        "* return the filtered bus dataframe"
      ],
      "metadata": {
        "id": "WQ0gdBlHmZJ-"
      }
    },
    {
      "cell_type": "code",
      "source": [],
      "metadata": {
        "id": "I8klcq96n9jg"
      },
      "execution_count": null,
      "outputs": []
    },
    {
      "cell_type": "markdown",
      "source": [
        "### Task 2 \n",
        "---\n",
        "Write a function which calculates the percentage of buses in the given period that were a particular emissions class\n",
        "\n",
        "* create a function which takes the bus dataframe and emissions class as parameters\n",
        "* create a variable within your function called *subset* which calls the function you created in Task 1, passing in the required emissions class\n",
        "* calculate the percentage using the length of the **subset** and the length of the original bus dataframe \n",
        "* return the percentage rounded to 2 decimal places "
      ],
      "metadata": {
        "id": "_uIRoQy4v_3N"
      }
    },
    {
      "cell_type": "code",
      "source": [
        "\n"
      ],
      "metadata": {
        "id": "MmDG4AO21H01"
      },
      "execution_count": null,
      "outputs": []
    },
    {
      "cell_type": "markdown",
      "source": [
        "### Task 3 - creating a function to calculate total distance \n",
        "---\n",
        "Later on, we will need to be able to quickly calculate the total distance that all buses of an emission starndard have travelled in a day.  For this you will use a dataframe that has been already filtered for a particular emission standard.\n",
        "\n",
        "To test your function now, you can use the dataframe you generated in Task 1\n",
        "\n",
        "* write a function which takes a dataframe (that has been filtered for an emission class) as a parameter and returns the total_distance  \n",
        "TO DO THIS:\n",
        "* create a variable called lats which converts the dataframes `['VehicleLocation.Latitude']` column to a list \n",
        "* create a variable called longs which converts the dataframes `['VehicleLocation.Longitude']` column to a list \n",
        "* create an empty variable called `total_distance` \n",
        "\n",
        "Some theory:\n",
        "\n",
        "Because of the earths curvature, its not that simple to calculate distance using latitudes and longitudes. Luckily, there is a python library to help us out (it has been imported for you below)\n",
        "\n",
        "`geodesic((origin_lat, origin_long), (dest_lat, dest_long)).kilometers` will return the distance between two locations (using coordinates) \n",
        "\n",
        "It takes 2 parameters in the form of tuples (so a tuple for origin and a tuple for destination)\n",
        "\n",
        "* In your function, use a for loop to iterate through the indexes of one of your lists (theyre both the same length) - *hint: range(len(list))*\n",
        "* save the lat and long at each index into a tuple called origin\n",
        "* save the lat and long at the following index (+1) into a tuple called destination \n",
        "* using the distance finding function above, add the distance to your `total_distance` variable\n",
        "* return the total_distance variable at the end of your function\n",
        "\n",
        "*hint: since we are looking at the next item in the list simultaneously you might want to only iterate to the 2nd to last index of your list*\n"
      ],
      "metadata": {
        "id": "qx_p6kMzn91R"
      }
    },
    {
      "cell_type": "code",
      "source": [
        "from geopy.distance import geodesic\n",
        "\n"
      ],
      "metadata": {
        "id": "jzs9nlgRpRUv"
      },
      "execution_count": null,
      "outputs": []
    },
    {
      "cell_type": "markdown",
      "source": [
        "### Task 4 \n",
        "---\n",
        "\n",
        "You might remember we worked out the rough emissions of a Euro 3 bus in the Bus Data Challenges.\n",
        "\n",
        "We are going to use those same numbers - the cell below already contains the `get_emissions_data()` function which will create a list of dictionaries with the emissions values for each emission standard. \n",
        "\n",
        "Data Dictionary:\n",
        "```\n",
        "Field---------------------------Data Type------------------Description  \n",
        "Emission Standard--------------Alphanumeric----------------Euro III, IV, V or VI\t\n",
        "CO2-------------------------------Float--------------------grams of CO2 emitted per KWhr  \n",
        "Nox-------------------------------Float--------------------grams of Nox emitted per KWhr  \n",
        "PM--------------------------------Float--------------------grams of particulate matter emitted per gm/KWhr  \n",
        "```\n",
        "\n",
        "**Some numbers to play with:**  \n",
        "NOTE: These are NOT fact checked but give a rough idea of some numbers we might be able to use for a rough first model\n",
        "\n",
        "*  A typical old diesel bus will typically get 5 miles per gallon, which is 2.126km per litre (divide mpg by 2.352)\n",
        "*  One litre of diesel fuel has the energy content of 10.8 kWh\n",
        "\n",
        "By that logic:\n",
        "\n",
        "The total emissions per km is 10.8/2.126 equalling 5.08 (rounded to 2 decimal places)\n",
        "\n",
        "To calculate total emissions for each euro standard:\n",
        "* find total energy consumption for total distance: multiple total km distance (Task 3's function) by km energy (5.08) for each euro standard\n",
        "* multiply total energy consumption by each toxic emissions grams for each euro standard \n",
        "\n",
        "Task:\n",
        "* write a function that takes the `emissions_standard` as a parameter  \n",
        "* inside your function, call your function from Task 1, parsing the parameters emissions_standard, and the `simplified_buses` dataframe, saving the result in a variable\n",
        "* call your distance calculation function from task 2, parsing through the dataframe variable youve just created above, saving the result in a variable called `distance`\n",
        "* use a for loop to iterate through the `emissions_data` dictionary \n",
        "* use an if statement to match up to the correct emissions standard dictionary\n",
        "* calculate the total Co2, Nox and PM usage (use the distance variable you just made)\n",
        "* return a dictionary containing the standard, the distance travelled by all buses of that standard in the period and the three total emissions calculated\n",
        "```\n",
        "{'Standard': emissions_standard, 'Total distance':distance, 'CO2':total CO2, 'Nox':total Nox, 'PM': total PM } \n",
        "```\n",
        "* call your function for each euro standard (you'll need to pass the euro standard in with speech marks eg. \"EURO III\") adding the results to a new list called `bus_emissions_by_standard`\n",
        "* print `bus_emissions_by_standard`\n",
        "\n",
        "\n",
        "\n",
        "\n",
        "\n",
        "\n"
      ],
      "metadata": {
        "id": "eznqKWZBZkfb"
      }
    },
    {
      "cell_type": "code",
      "source": [
        "emissions_data = [\n",
        "    {\"Standard\":\"EURO III\", \"CO2\":2.1, \"Nox\":5, \"PM\":0.1 },\n",
        "    {\"Standard\":\"EURO IV\",\"CO2\":1.5,\"Nox\":3.5,\"PM\":0.02 },\n",
        "    {\"Standard\":\"EURO V\",\"CO2\":1.5,\"Nox\":2,\"PM\":0.02},\n",
        "    {\"Standard\":\"EURO VI\",\"CO2\":1.5,\"Nox\":0.4,\"PM\":0.01}\n",
        "]\n",
        "  \n"
      ],
      "metadata": {
        "id": "ZBsczq_VY93J"
      },
      "execution_count": null,
      "outputs": []
    },
    {
      "cell_type": "markdown",
      "source": [
        "### Task 5 \n",
        "---\n",
        "\n",
        "Find the percentage of the total emissions produced by all the buses for each emission standard \n",
        "\n",
        "* Write a function which takes an emissions class as a parameter \n",
        "* Create a variable, for each type of emission (CO2, Nox, PM) , which holds the total emissions (add up all the values from the dictionary you created in the last task using a for loop)\n",
        "* Using the given emissions class, calculate the percentage of the total emissions are for the emissions class (the emissions class emissions / total emissions * 100) \n",
        "* return the percentage\n",
        "* print comparisons of each standard, its percentage of emissions and the percentage of the buses that were that standard (use your function from Task 2)\n"
      ],
      "metadata": {
        "id": "2HstW9I3eOt2"
      }
    },
    {
      "cell_type": "code",
      "source": [],
      "metadata": {
        "id": "6d8P3cZvbtd5"
      },
      "execution_count": null,
      "outputs": []
    },
    {
      "cell_type": "markdown",
      "source": [
        "### Task 6 \n",
        "---\n",
        "Create a function to filter the dataframe to just rows of buses in the AQMA boundary of Rainham High Street (similiar to the Task 9 in simplification worksheet)\n",
        "\n",
        "Heres a reminder:\n",
        "\n",
        "To remove all rows that are not within the boundary of Rainham High Street (the AQMA) you will need to check the latitudes and longitudes of each row. \n",
        "\n",
        "The bounding box for the latitude and longitude is as follows:\n",
        "```\n",
        "Max Lat 51.364935                                 Max Lat 51.364935\n",
        "Min Long: 0.603210 ------------------------------ Max Long 0.617510  \n",
        "                   |                            |  \n",
        "                   |                            |  \n",
        "                   |                            |  \n",
        "                   |                            |  \n",
        "                   |                            |\n",
        "Min Lat 51.361462  ------------------------------ Min Lat 51.361462\n",
        "Min Long 0.603210                                 Max Long 0.617510\n",
        "```\n",
        "Therefore, to be in the boundary:\n",
        "* the longitude must be between 0.603210 and 0.617510\n",
        "* the latitude must be between 51.361462 and 51.364935\n",
        "\n",
        "Use the function you made in Task 9 of the bus-data-simplification worksheet. If you need to, edit it to generalise it to take a dataframe as a parameter and run it on the simplified_buses dataframe from this worksheet.\n",
        "\n",
        "Return and save the filtered dataframe that only contains rows which have passed through the AQMA.\n",
        "\n"
      ],
      "metadata": {
        "id": "slRDpSrIQkVy"
      }
    },
    {
      "cell_type": "code",
      "source": [],
      "metadata": {
        "id": "oHy5az01bybB"
      },
      "execution_count": null,
      "outputs": []
    },
    {
      "cell_type": "markdown",
      "source": [
        "### Task 7\n",
        "---\n",
        "Using the filtered dataframe from Task 6, repeat tasks 4 and 5 on just the buses in the AQMA.\n",
        "\n"
      ],
      "metadata": {
        "id": "RdE73au5SFXr"
      }
    },
    {
      "cell_type": "code",
      "source": [],
      "metadata": {
        "id": "vtf7OB_fbywV"
      },
      "execution_count": null,
      "outputs": []
    }
  ]
}