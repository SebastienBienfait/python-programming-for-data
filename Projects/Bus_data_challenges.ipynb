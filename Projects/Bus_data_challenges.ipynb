{
  "nbformat": 4,
  "nbformat_minor": 0,
  "metadata": {
    "colab": {
      "provenance": [],
      "collapsed_sections": [],
      "include_colab_link": true
    },
    "kernelspec": {
      "name": "python3",
      "display_name": "Python 3"
    },
    "language_info": {
      "name": "python"
    }
  },
  "cells": [
    {
      "cell_type": "markdown",
      "metadata": {
        "id": "view-in-github",
        "colab_type": "text"
      },
      "source": [
        "<a href=\"https://colab.research.google.com/github/futureCodersSE/python-programming-for-data/blob/main/Projects/Bus_data_challenges.ipynb\" target=\"_parent\"><img src=\"https://colab.research.google.com/assets/colab-badge.svg\" alt=\"Open In Colab\"/></a>"
      ]
    },
    {
      "cell_type": "markdown",
      "source": [
        "# Bus emissions challenge \n",
        "---\n",
        "\n",
        "\n",
        "### Introduction\n",
        "\n",
        "Kent and Medway have the highest proportion of old buses in the country (~40% of fleet). Old buses are detrimental to the environment as the older buses only have Euro III emissions standards which if used for lots of \n",
        "journeys will be dramatically impacting the air quality of the area. \n",
        "\n",
        "The client therefore would like us to find out some information which could then be used as evidence to make a case  to improve the bus emissions in the Kent and Medway area.\n",
        "\n",
        "The datasets we will be using are pubically available. Gov.uk provides data on all bus journeys in the UK and when used in conjunction with Arriva buses fleet emissions data (available from bustimes.org, download [here](https://drive.google.com/uc?export=download&id=1ywtiSwR27JYCC5Sf9G1ZCTOTWNxWBk9_ )) we can build a pretty good \n",
        "picture of how many of these old buses are being used for bus journeys in Kent and Medway.\n",
        "\n",
        "The gov.uk bus data is available in XML format via an api. The data refreshes every 10 seconds so each time you download it, it will show you a snapshot of the buses currently in operation at that time. We have downloaded one snapshot of this \n",
        "data and converted it to JSON format accessible to download [here](https://drive.google.com/uc?export=download&id=1a9vMs0Kke7Nh4LuxCnKHkVIkFDr-az_Z)\n",
        "\n",
        "\n",
        "\n"
      ],
      "metadata": {
        "id": "J7Zhg8Bno-rr"
      }
    },
    {
      "cell_type": "markdown",
      "source": [
        "### Load the data\n",
        "---\n",
        "#### **Please run the cell below to load the data required for this challenge.**  \n",
        "The following code will read both the json file and the bus emissions csv file and create a dictionary (`bus_journeys`) and 2 lists (`vehicle_refs`, `emissions`).\n"
      ],
      "metadata": {
        "id": "zMdU3RE5xjbX"
      }
    },
    {
      "cell_type": "code",
      "source": [
        "import pandas as pd\n",
        "import json\n",
        "import urllib.request\n",
        "\n",
        "url_json = \"https://drive.google.com/uc?export=download&id=1a9vMs0Kke7Nh4LuxCnKHkVIkFDr-az_Z\"\n",
        "csv = \"https://drive.google.com/uc?export=download&id=1ywtiSwR27JYCC5Sf9G1ZCTOTWNxWBk9_\"\n",
        "\n",
        "def get_saved_data(url_json):\n",
        "    if url_json is not None:\n",
        "        try:\n",
        "            with urllib.request.urlopen(url_json) as url:\n",
        "                data = json.loads(url.read().decode())\n",
        "                return data\n",
        "        except:\n",
        "            print(\"An error occurred while reading the file\")\n",
        "\n",
        "\n",
        "def get_dicts_lists():\n",
        "  df = pd.json_normalize(get_saved_data(url_json))\n",
        "  regs = pd.read_csv(csv)\n",
        "\n",
        "  bus = df[['MonitoredVehicleJourney.LineRef','MonitoredVehicleJourney.DirectionRef','MonitoredVehicleJourney.PublishedLineName','MonitoredVehicleJourney.OriginName','MonitoredVehicleJourney.DestinationName','MonitoredVehicleJourney.OriginAimedDepartureTime','MonitoredVehicleJourney.VehicleRef']]\n",
        "  bus.columns = bus.columns.str.lstrip(\"MonitoredVehicleJourney.\")\n",
        "  bus_journeys = bus.to_dict('records')\n",
        "  \n",
        "  regs.rename({'Last tracked': 'VehicleRef'}, axis=1 , inplace=True)\n",
        "  vehiclerefs = regs['VehicleRef'].to_list()\n",
        "  emission_standards = regs['Emission Class'].to_list()\n",
        "  return bus_journeys, vehiclerefs, emission_standards\n",
        "\n",
        "def get_emissions_data():\n",
        "\n",
        "  emissions_data = [\n",
        "      {\"Standard\":\"EURO III\", \"CO2\":2.1, \"Nox\":5, \"PM\":0.1 },\n",
        "      {\"Standard\":\"EURO IV\",\"CO2\":1.5,\"Nox\":3.5,\"PM\":0.02 },\n",
        "      {\"Standard\":\"EURO V\",\"CO2\":1.5,\"Nox\":2,\"PM\":0.02},\n",
        "      {\"Standard\":\"EURO VI\",\"CO2\":1.5,\"Nox\":0.4,\"PM\":0.01}\n",
        "  ]\n",
        "  return emissions_data\n",
        "\n",
        "\n",
        "\n",
        "bus_journeys, vehicle_refs, emission_standards = get_dicts_lists()\n",
        "emissions_data = get_emissions_data()\n"
      ],
      "metadata": {
        "id": "QXaMMOlGsdkV"
      },
      "execution_count": null,
      "outputs": []
    },
    {
      "cell_type": "markdown",
      "source": [
        "### Task 1 - investigate bus_journeys data\n",
        "---\n"
      ],
      "metadata": {
        "id": "13490nn2yHga"
      }
    },
    {
      "cell_type": "markdown",
      "source": [
        "This is the data dictionary for records in the bus_journeys data (all fields are alphanumeric):  \n",
        "\n",
        "LineRef--------------------------------------bus route number  \n",
        "DirectionRef------------------------------current direction of travel, inbound or outbound   \n",
        "PublishedLineName------------------timetabled service name (may be same as LineRef)  \n",
        "OriginName-------------------------------start location of the current route  \n",
        "DestinationName----------------------end destination on the current route  \n",
        "OriginAimedDepartureTime------the time at which the bus was timetabled to leave its start location    \n",
        "Ref---------------------------------------------a uniquely identifier for the bus vehicle  \n",
        "\n",
        "The bus_journeys data contains a list of records with the fields shown above.  This list contains a records for each bus that is currently on a bus route (assuming that all are tranmitting their locations) \n",
        "  \n",
        "**Task**  \n",
        "Take a look at the `bus_journeys` dictionary\n",
        "\n",
        "* Print the first record\n",
        "* Print the last record\n",
        "* How is an individual bus journey dictionary structured? \n",
        "* How many of these dictionary records are in the list?\n",
        "\n",
        "\n",
        "**Expected Output**   \n",
        "First record will have `LineRef` 177  \n",
        "Last record will have `LineRef` 347  "
      ],
      "metadata": {
        "id": "UESD1OvDBvGn"
      }
    },
    {
      "cell_type": "code",
      "source": [],
      "metadata": {
        "id": "BXayoSe3yN21"
      },
      "execution_count": null,
      "outputs": []
    },
    {
      "cell_type": "markdown",
      "source": [
        "### Task 2 - investigate vehicle_refs and emission_standards data lists\n",
        "---\n",
        "Take a look at the `vehicle_refs` and `emission_standards` lists\n",
        "* what is the length of each list?\n",
        "* find how many unique items there are in the emission_standards list - (**hint** : you will need to create another list and use a for loop) *italicised text* \n",
        "* print the unique emission_standards items \n",
        "* find how many unique items there are in the vehicle_refs list\n",
        "* print the length of the unique vehicle_ref items "
      ],
      "metadata": {
        "id": "h7ZyCzxnC1Nk"
      }
    },
    {
      "cell_type": "code",
      "source": [],
      "metadata": {
        "id": "2SP_Oo41DSU5"
      },
      "execution_count": null,
      "outputs": []
    },
    {
      "cell_type": "markdown",
      "source": [
        "### Task 3 \n",
        "---\n",
        "The client is only concerned about bus routes 116 and 132 specifically.\n",
        "\n",
        "**Task**\n",
        "Create a new list of dictionaries which contains only the records where the `LineRef` is either 116 or 132. \n",
        "\n",
        "*(**hint**: the datatype of the LineRef might not be what you expect - the data came from a .csv file)*\n",
        "\n",
        "**Expected output**\n",
        "There will be 14 records in this list"
      ],
      "metadata": {
        "id": "bhG4CEnrEKe3"
      }
    },
    {
      "cell_type": "code",
      "source": [],
      "metadata": {
        "id": "txQCeFVPEYOI"
      },
      "execution_count": null,
      "outputs": []
    },
    {
      "cell_type": "markdown",
      "source": [
        "### Task 4 \n",
        "---\n",
        "\n",
        "The indexes of `vehicle_refs` match the indexes of `emissions`.   \n",
        "Create a new list, which contains dictionaries.  Each dictionary will contain a vehicle_ref and its corresponding emission_class. \n",
        "*hint: you will need to use a for loop and indexing and should create dictionaries with two keys: vehicle_ref and emission_class*"
      ],
      "metadata": {
        "id": "1ct6UYStFA2s"
      }
    },
    {
      "cell_type": "code",
      "source": [],
      "metadata": {
        "id": "bY53wR70FFoE"
      },
      "execution_count": null,
      "outputs": []
    },
    {
      "cell_type": "markdown",
      "source": [
        "### Task 5 \n",
        "--- \n",
        "\n",
        "The list of dictionaries you created in the last exercise is very long. A more intuitive way to hold this data would be by collating data. \n",
        "\n",
        "Create a dictionary where each unique emission_class is a key and its corresponding value is a list of all vehicle_refs with that emission_class \n",
        "\n",
        "*(**hint**: you could think about using the unique_em list you created earlier)*\n",
        "\n",
        "**Example Output**\n",
        "\n",
        "{\"EURO III\": [1234, 4567, 8910], \"EURO IV\": [1028, 1283, 1234]}"
      ],
      "metadata": {
        "id": "ICrc2gAJFk3a"
      }
    },
    {
      "cell_type": "code",
      "source": [],
      "metadata": {
        "id": "ATpxmk4RFlN1"
      },
      "execution_count": null,
      "outputs": []
    },
    {
      "cell_type": "markdown",
      "source": [
        "### Task 6\n",
        "---\n",
        "Find all the polluting buses that were running when the data was collected.   \n",
        "Using the `bus_journeys` dictionary, find all the records where a Euro III bus was used. \n",
        "\n",
        "You can find the `Refs` which are polluting from the dictionary you created in the last task. \n",
        "\n",
        "* Create a new list of dictionaries which only contains the records from `bus_journeys` which were found as polluting bus. \n",
        "* how many polluting buses were being used?\n"
      ],
      "metadata": {
        "id": "9fexYArxGZFq"
      }
    },
    {
      "cell_type": "code",
      "source": [],
      "metadata": {
        "id": "IVa0LHGWHRwK"
      },
      "execution_count": null,
      "outputs": []
    },
    {
      "cell_type": "markdown",
      "source": [
        "# Challenge\n",
        "\n",
        "Can we find out how much pollution one bus on the 116 route emits?\n",
        "\n",
        "Can we find out how much pollution one bus on the 132 route emits?\n",
        "\n",
        "Can we find out how much pollution, in total, all the buses on these routes at the recorded point in time will be emitting?\n",
        "\n",
        "**Some numbers to play with:**  \n",
        "NOTE: These are NOT fact checked but give a rough idea of some numbers we might be able to use for a rough first model\n",
        "\n",
        "*  A typical old diesel bus will typically get 5 miles per gallon, which is 2.126km per litre (divide mpg by 2.352)\n",
        "*  One litre of diesel fuel has the energy content of 10.8 kWh\n",
        "*  If the bus's fuel consumption is 2.126km per litre, this gives an energy content of 5.08 kWh/km (divide 10.8 by fuel consumption)\n",
        "\n",
        "Emissions data is in this variable: ***emissions_data***\n",
        "\n",
        "**Emissions Data dictionary**\n",
        "\n",
        "Field------------------------------Data Type------------Description  \n",
        "Emission Standard-------Alphanumeric------Euro III, IV, V or VI\t\n",
        "CO2-------------------------------Float--------------------grams of CO2 emitted per KWhr  \n",
        "Nox-------------------------------Float--------------------grams of Nox emitted per KWhr  \n",
        "PM--------------------------------Float--------------------grams of particulate matter emitted per gm/KWhr  \n",
        "\t\t\t\n",
        "**Route information**  \n",
        "The 132 route is 12.5km from end to end  \n",
        "The 116 route is 15.25km  \n",
        "\n",
        "####**Task**  \n",
        "\n",
        "Write a function that takes the miles per gallon and the route (LineRef) as a parameter and calculates the emission of each of the 3 pollutants for a return journey on that route.\n",
        "\n",
        "####**Extension**  \n",
        "\n",
        "Find all the 116 and 132 buses in the data set (a snapshot of what is on the road at that particular point in time).  \n",
        "\n",
        "Count how many of these buses are Euro III.  \n",
        "\n",
        "Then calculate the total emissions for each pollutant for all the buses you have found."
      ],
      "metadata": {
        "id": "w6cU5Gf8V5R7"
      }
    },
    {
      "cell_type": "code",
      "source": [],
      "metadata": {
        "id": "J0QHWV5p0KH2"
      },
      "execution_count": null,
      "outputs": []
    },
    {
      "cell_type": "markdown",
      "source": [
        "# Summary\n",
        "\n",
        "Having completed the challenges.  What new information do we know?  What more might we try to find?\n",
        "\n",
        "Add some ideas in the box below (double click to open it)"
      ],
      "metadata": {
        "id": "tRY5LJmh0LRr"
      }
    },
    {
      "cell_type": "markdown",
      "source": [],
      "metadata": {
        "id": "51FqaKXv0apa"
      }
    }
  ]
}