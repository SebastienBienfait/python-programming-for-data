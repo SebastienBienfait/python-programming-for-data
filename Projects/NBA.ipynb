{
  "nbformat": 4,
  "nbformat_minor": 0,
  "metadata": {
    "colab": {
      "name": "NBA.ipynb",
      "provenance": [],
      "collapsed_sections": [],
      "authorship_tag": "ABX9TyN1xxNV7W81SVMOU+d3Jy3A",
      "include_colab_link": true
    },
    "kernelspec": {
      "name": "python3",
      "display_name": "Python 3"
    },
    "language_info": {
      "name": "python"
    }
  },
  "cells": [
    {
      "cell_type": "markdown",
      "metadata": {
        "id": "view-in-github",
        "colab_type": "text"
      },
      "source": [
        "<a href=\"https://colab.research.google.com/github/futureCodersSE/python-programming-for-data/blob/main/Projects/NBA.ipynb\" target=\"_parent\"><img src=\"https://colab.research.google.com/assets/colab-badge.svg\" alt=\"Open In Colab\"/></a>"
      ]
    },
    {
      "cell_type": "markdown",
      "source": [
        "The National Basketball Association publish information about their end of season awards on their website (https://www.basketball-reference.com/awards/awards_2021.html)\n",
        "\n",
        "![MVP table](https://drive.google.com/uc?id=1d41rWfUR_Arf4n8dD_Rd9PX2Yj670pYl)\n",
        "\n",
        "We might use these tables to help predict the Most Valued Player in the National Basketball Association league for 2022.  We would start this process by scraping the data from their website.  "
      ],
      "metadata": {
        "id": "BlAFOL5GnddT"
      }
    },
    {
      "cell_type": "markdown",
      "source": [
        "## For reference:\n",
        "---\n",
        "\n",
        "\n",
        "This is the code used to scrape the tables from the website, using Colabs, and saving them in .csv files, downloaded to the local device.  They have been uploaded to Github so that you don't need to get them again.  The code below is included for reference.\n",
        "```\n",
        "import requests\n",
        "from bs4 import BeautifulSoup\n",
        "import pandas as pd\n",
        "from google.colab import files\n",
        "\n",
        "def get_data():\n",
        "  years = list(range(1991, 2021))\n",
        "  url = \"https://www.basketball-reference.com/awards/awards_{}.html\"\n",
        "  for year in years:\n",
        "    year_url = url.format(year)\n",
        "    data = requests.get(year_url)\n",
        "    soup = BeautifulSoup(data.text, \"html.parser\")\n",
        "    soup.find('tr', class_=\"over_header\").decompose()\n",
        "    mvp_table = soup.find(id=\"mvp\")\n",
        "    mvp_year = pd.read_html(str(mvp_table))[0]\n",
        "    filename = \"mvp_{}.csv\"\n",
        "    mvp_year.to_csv(filename.format(year))\n",
        "    files.download(filename.format(year))\n",
        "  return mvp_year\n",
        "\n",
        "table_data = get_data()\n",
        "```\n",
        "\n",
        "\n",
        "\n"
      ],
      "metadata": {
        "id": "_Ke8CCgAtQ9R"
      }
    },
    {
      "cell_type": "markdown",
      "source": [
        "##Data sources:\n",
        "---\n",
        "\n",
        "\n",
        "The downloaded files were then uploaded to Github and are stored in this folder: https://github.com/futureCodersSE/python-programming-for-data/tree/main/Datasets/NBA-MVP.  Links to individual files are https://github.com/futureCodersSE/python-programming-for-data/blob/main/Datasets/NBA-MVP/mvp_1991.csv with the year replaced each time."
      ],
      "metadata": {
        "id": "J0hK4Pfp1Cug"
      }
    },
    {
      "cell_type": "markdown",
      "source": [
        "## Activity\n",
        "---\n",
        "\n",
        "Read the datasets (there are 11 dataset files - 1991 to 2021 - how can you use a loop to do this?)\n",
        "\n",
        "Investigate the contents of the resulting dataframes.  \n",
        "\n",
        "Can they be sensibly merged?  What do you observe?\n",
        "\n",
        "Does sorting revealt any trends?\n",
        "\n",
        "Is there a trend in performance (\n",
        "\n"
      ],
      "metadata": {
        "id": "dG65UQNT6Gvv"
      }
    },
    {
      "cell_type": "code",
      "source": [
        ""
      ],
      "metadata": {
        "id": "4zzm-xlK6KPP"
      },
      "execution_count": null,
      "outputs": []
    },
    {
      "cell_type": "markdown",
      "source": [
        "## Reference\n",
        "---\n",
        "**Video link**: https://www.youtube.com/watch?v=JGQGd-oa0l4 used as an initial inspiration and modified to allow use of Google Colab and slower progress towards predictions (video uses Jupyter notebooks and local files so code is different)"
      ],
      "metadata": {
        "id": "UHXy-GYR3hbg"
      }
    },
    {
      "cell_type": "markdown",
      "metadata": {
        "id": "pQV2NO8umBSk"
      },
      "source": [
        "# Reflection\n",
        "----\n",
        "\n",
        "## What skills have you demonstrated in completing this notebook?"
      ]
    },
    {
      "cell_type": "markdown",
      "metadata": {
        "id": "NUVvt2r0mCKq"
      },
      "source": [
        "Your answer:"
      ]
    },
    {
      "cell_type": "markdown",
      "metadata": {
        "id": "SOrbWOuFmObq"
      },
      "source": [
        "## What caused you the most difficulty?"
      ]
    },
    {
      "cell_type": "markdown",
      "metadata": {
        "id": "G_eGng1GmO78"
      },
      "source": [
        "Your answer:"
      ]
    }
  ]
}