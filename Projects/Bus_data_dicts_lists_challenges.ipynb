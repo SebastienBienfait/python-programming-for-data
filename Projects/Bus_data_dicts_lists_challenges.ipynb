{
  "nbformat": 4,
  "nbformat_minor": 0,
  "metadata": {
    "colab": {
      "provenance": [],
      "authorship_tag": "ABX9TyPI1T6yF5CSXtbKGK9uGJON",
      "include_colab_link": true
    },
    "kernelspec": {
      "name": "python3",
      "display_name": "Python 3"
    },
    "language_info": {
      "name": "python"
    }
  },
  "cells": [
    {
      "cell_type": "markdown",
      "metadata": {
        "id": "view-in-github",
        "colab_type": "text"
      },
      "source": [
        "<a href=\"https://colab.research.google.com/github/futureCodersSE/python-programming-for-data/blob/main/Projects/Bus_data_dicts_lists_challenges.ipynb\" target=\"_parent\"><img src=\"https://colab.research.google.com/assets/colab-badge.svg\" alt=\"Open In Colab\"/></a>"
      ]
    },
    {
      "cell_type": "markdown",
      "source": [
        "# Bus emissions challenge \n",
        "---\n",
        "\n",
        "\n",
        "### Introduction\n",
        "\n",
        "Kent and Medway have the highest proportion of old buses in the country (~40% of fleet). Old buses are detrimental to the environment as the older buses only have Euro III emissions standards which if used for lots of \n",
        "journeys will be dramatically impacting the air quality of the area. \n",
        "\n",
        "The client therefore would like us to find out some information which could then be used as evidence to make a case  to improve the bus emissions in the Kent and Medway area.\n",
        "\n",
        "The datasets we will be using are pubically available. Gov.uk provides data on all bus journeys in the UK and when used in conjunction with Arriva buses fleet emissions data (available from bustimes.org, download [here](https://drive.google.com/uc?export=download&id=1ywtiSwR27JYCC5Sf9G1ZCTOTWNxWBk9_ )) we can build a pretty good \n",
        "picture of how many of these old buses are being used for bus journeys in Kent and Medway.\n",
        "\n",
        "The gov.uk bus data is available in XML format via an api. The data refreshes every 10 seconds so each time you download it, it will show you a snapshot of the buses currently in operation at that time. We have downloaded this \n",
        "data and converted it to JSON format accessible to download [here](https://drive.google.com/uc?export=download&id=1a9vMs0Kke7Nh4LuxCnKHkVIkFDr-az_Z)\n",
        "\n",
        "\n",
        "\n"
      ],
      "metadata": {
        "id": "J7Zhg8Bno-rr"
      }
    },
    {
      "cell_type": "markdown",
      "source": [
        "### Load the data\n",
        "---\n",
        "#### **Please run the cell below to load the data required for this challenge.**  \n",
        "The following code will read both the json file and the bus emissions csv file and create a dictionary (`bus_journeys`) and 2 lists (`vehicle_refs`, `emissions`).\n"
      ],
      "metadata": {
        "id": "zMdU3RE5xjbX"
      }
    },
    {
      "cell_type": "code",
      "source": [
        "import pandas as pd\n",
        "import json\n",
        "import urllib.request\n",
        "\n",
        "url_json = \"https://drive.google.com/uc?export=download&id=1a9vMs0Kke7Nh4LuxCnKHkVIkFDr-az_Z\"\n",
        "csv = \"https://drive.google.com/uc?export=download&id=1ywtiSwR27JYCC5Sf9G1ZCTOTWNxWBk9_\"\n",
        "\n",
        "def get_saved_data(url_json):\n",
        "    if url_json is not None:\n",
        "        try:\n",
        "            with urllib.request.urlopen(url_json) as url:\n",
        "                data = json.loads(url.read().decode())\n",
        "                return data\n",
        "        except:\n",
        "            print(\"An error occurred while reading the file\")\n",
        "\n",
        "\n",
        "def get_dicts_lists():\n",
        "  df = pd.json_normalize(get_saved_data(url_json))\n",
        "  regs = pd.read_csv(csv)\n",
        "\n",
        "  bus = df[['MonitoredVehicleJourney.LineRef','MonitoredVehicleJourney.DirectionRef','MonitoredVehicleJourney.PublishedLineName','MonitoredVehicleJourney.OriginName','MonitoredVehicleJourney.DestinationName','MonitoredVehicleJourney.OriginAimedDepartureTime','MonitoredVehicleJourney.VehicleRef']]\n",
        "  bus.columns = bus.columns.str.lstrip(\"MonitoredVehicleJourney.\")\n",
        "  bus_journeys = bus.to_dict('records')\n",
        "  \n",
        "  regs.rename({'Last tracked': 'VehicleRef'}, axis=1 , inplace=True)\n",
        "  vehiclerefs = regs['VehicleRef'].to_list()\n",
        "  emissions = regs['Emission Class'].to_list()\n",
        "  return bus_journeys, vehiclerefs, emissions\n",
        "\n",
        "\n",
        "\n",
        "bus_journeys, vehicle_refs, emissions = get_dicts_lists()\n"
      ],
      "metadata": {
        "id": "QXaMMOlGsdkV"
      },
      "execution_count": null,
      "outputs": []
    },
    {
      "cell_type": "markdown",
      "source": [
        "### Task 1\n",
        "---\n"
      ],
      "metadata": {
        "id": "13490nn2yHga"
      }
    },
    {
      "cell_type": "markdown",
      "source": [
        "Take a look at the `bus_journeys` dictionary\n",
        "* How is it structured? \n",
        "* Print the first and last record\n",
        "\n",
        "\n",
        "\n",
        "**Expected Output**   \n",
        "first record will have `LineRef` 176  \n",
        "last record will have `LineRef` 347  "
      ],
      "metadata": {
        "id": "UESD1OvDBvGn"
      }
    },
    {
      "cell_type": "code",
      "source": [],
      "metadata": {
        "id": "BXayoSe3yN21"
      },
      "execution_count": null,
      "outputs": []
    },
    {
      "cell_type": "markdown",
      "source": [
        "### Task 2 \n",
        "---\n",
        "Take a look at the `vehicle_refs` and `emissions` lists\n",
        "* what is the length of each list?\n",
        "* find how many unique items there are in the emissions list - (*hint: you will need to create another list and use a for loop*) \n",
        "* print the unique emissons items "
      ],
      "metadata": {
        "id": "h7ZyCzxnC1Nk"
      }
    },
    {
      "cell_type": "code",
      "source": [],
      "metadata": {
        "id": "2SP_Oo41DSU5"
      },
      "execution_count": null,
      "outputs": []
    },
    {
      "cell_type": "markdown",
      "source": [
        "### Task 3 \n",
        "---\n",
        "The client is only concerned about bus routes 116 and 132 specifically.\n",
        "Create a new list of dictionaries which contains only the records where the `LineRef` is either 116 or 132. \n",
        "\n",
        "*hint: the datatype of the LineRef might not be what you expect*"
      ],
      "metadata": {
        "id": "bhG4CEnrEKe3"
      }
    },
    {
      "cell_type": "code",
      "source": [],
      "metadata": {
        "id": "txQCeFVPEYOI"
      },
      "execution_count": null,
      "outputs": []
    },
    {
      "cell_type": "markdown",
      "source": [
        "### Task 4 \n",
        "---\n",
        "\n",
        "The indexes of `vehicle_refs` match the indexes of `emissions`.   \n",
        "Create a dictionary where each vehicle ref is a key and its corresponding emission is the value\n",
        "\n",
        "*hint: you will need to use a for loop and indexing*"
      ],
      "metadata": {
        "id": "1ct6UYStFA2s"
      }
    },
    {
      "cell_type": "code",
      "source": [],
      "metadata": {
        "id": "bY53wR70FFoE"
      },
      "execution_count": null,
      "outputs": []
    },
    {
      "cell_type": "markdown",
      "source": [
        "### Task 5 \n",
        "--- \n",
        "\n",
        "The dictionary you created in the last exercise is very long. A more intuitive way to hold this data would be through lists and dictionaries. \n",
        "\n",
        "Create a dictionary where each unique emission is a key and the corresponding value is a list of all corresponding vehicle refs \n",
        "\n",
        "**Example Output**\n",
        "\n",
        "{\"EURO III\": [1234, 4567, 8910], \"EURO IV\": [1028, 1283, 1234]}"
      ],
      "metadata": {
        "id": "ICrc2gAJFk3a"
      }
    },
    {
      "cell_type": "code",
      "source": [],
      "metadata": {
        "id": "ATpxmk4RFlN1"
      },
      "execution_count": null,
      "outputs": []
    },
    {
      "cell_type": "markdown",
      "source": [
        "### Task 6\n",
        "---\n",
        "Find all the polluting buses that were running when the data was collected.   \n",
        "Using the `bus_journeys` dictionary, find all the records where a Euro III bus was used. \n",
        "\n",
        "You can find the `Refs` which are polluting from the dictionary you created in the last task. \n",
        "\n",
        "* Create a new list of dictionaries which only contains the records from `bus_journeys` which were found as polluting bus. \n",
        "* how many polluting buses were being used?\n"
      ],
      "metadata": {
        "id": "9fexYArxGZFq"
      }
    },
    {
      "cell_type": "code",
      "source": [
        "\n"
      ],
      "metadata": {
        "id": "IVa0LHGWHRwK"
      },
      "execution_count": null,
      "outputs": []
    }
  ]
}