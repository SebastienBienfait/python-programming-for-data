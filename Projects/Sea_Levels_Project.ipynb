{
  "nbformat": 4,
  "nbformat_minor": 0,
  "metadata": {
    "colab": {
      "name": "14. Sea-Levels Project.ipynb",
      "provenance": [],
      "collapsed_sections": [],
      "include_colab_link": true
    },
    "kernelspec": {
      "name": "python3",
      "display_name": "Python 3"
    },
    "language_info": {
      "name": "python"
    }
  },
  "cells": [
    {
      "cell_type": "markdown",
      "metadata": {
        "id": "view-in-github",
        "colab_type": "text"
      },
      "source": [
        "<a href=\"https://colab.research.google.com/github/futureCodersSE/python-programming-for-data/blob/main/Projects/Sea_Levels_Project.ipynb\" target=\"_parent\"><img src=\"https://colab.research.google.com/assets/colab-badge.svg\" alt=\"Open In Colab\"/></a>"
      ]
    },
    {
      "cell_type": "markdown",
      "metadata": {
        "id": "TtGpyRE2itGv"
      },
      "source": [
        "# Sea-Level predictor project\n",
        "\n",
        "---\n"
      ]
    },
    {
      "cell_type": "markdown",
      "metadata": {
        "id": "5izBi6vRiyIV"
      },
      "source": [
        "This is a freeCodeCamp project\n",
        "\n",
        "### Data Source\n",
        "Global Average Absolute Sea Level Change, 1880-2014 from the US Environmental Protection Agency using data from CSIRO, 2015; NOAA, 2015.\n",
        "https://datahub.io/core/sea-level-rise\n",
        "\n",
        "The data describes annual sea levels from 1880 to 2013.  Measures are adjusted using two standards: Commonwealth Scientific and Industrial Research Organisation(CSIRO) and National Oceanic and Atmospheric Administration (NOAA)  \n",
        "\n",
        "Raw Data file:  https://raw.githubusercontent.com/freeCodeCamp/boilerplate-sea-level-predictor/master/epa-sea-level.csv\n",
        "\n",
        "---\n",
        "### Exercise 1 - Load in the data \n",
        "---\n",
        "\n",
        "Load in the sea-levels data and have a look, dont forget to check the numerical and technical summaries and get a feel for the dataset"
      ]
    },
    {
      "cell_type": "code",
      "metadata": {
        "id": "y7YD5Td_isLB"
      },
      "source": [
        ""
      ],
      "execution_count": null,
      "outputs": []
    },
    {
      "cell_type": "markdown",
      "metadata": {
        "id": "MevbGpJNm8_W"
      },
      "source": [
        "---\n",
        "### Exercise 2 - scatter plot \n",
        "Create a  scatter plot using the \"Year\" column as the x-axis and the \"CSIRO Adjusted Sea Level\" column as the y-axis.\n",
        "\n",
        "*hint: try using inline*"
      ]
    },
    {
      "cell_type": "code",
      "metadata": {
        "id": "96V3LU4rnK-N"
      },
      "source": [
        ""
      ],
      "execution_count": null,
      "outputs": []
    },
    {
      "cell_type": "markdown",
      "metadata": {
        "id": "leXjCPKqoJfk"
      },
      "source": [
        "---\n",
        "### Exercise 3 - Clean the data \n",
        "\n",
        "The column NOAA has null values in a number of rows.  Clean the data, producing a new dataframe. \n"
      ]
    },
    {
      "cell_type": "code",
      "metadata": {
        "id": "HuRM0qaUoenc"
      },
      "source": [
        ""
      ],
      "execution_count": null,
      "outputs": []
    },
    {
      "cell_type": "markdown",
      "metadata": {
        "id": "R-V0fcMBo_-N"
      },
      "source": [
        "\n",
        "### Exercise 3 - plot scatter graph for NOAA adjusted levels\n",
        "---\n"
      ]
    },
    {
      "cell_type": "code",
      "metadata": {
        "id": "HvnS0mhppLLc"
      },
      "source": [
        ""
      ],
      "execution_count": null,
      "outputs": []
    },
    {
      "cell_type": "markdown",
      "metadata": {
        "id": "mtwuv0qgnjJ8"
      },
      "source": [
        "---\n",
        "### Exercise 4 - plot line of best fit for CSIRO\n",
        "\n",
        "*   Use the `linregress` function from `scipi.stats` to get the slope and y-intercept of the line of best fit.\n",
        "*   Plot the line of best fit over the top of the scatter plot. \n",
        "*   Make the line go through the year 2050 to predict the sea level rise in 2050.    \n",
        "\n",
        "*(Hint:  use numpy to create an array from the first year to 2050 with an increment of 1)*"
      ]
    },
    {
      "cell_type": "code",
      "metadata": {
        "id": "mMssVmCan7HI"
      },
      "source": [
        "\n",
        "\n",
        "# get scope and y-intercept\n",
        "\n",
        "# create an extended range for x to predict sea level in 2050\n",
        "\n",
        "\n",
        "# draw the scatter plot with line of best fit\n",
        "\n"
      ],
      "execution_count": null,
      "outputs": []
    },
    {
      "cell_type": "markdown",
      "metadata": {
        "id": "irprGhKO2yQs"
      },
      "source": [
        "### Exercise 5 - plot line of best fit for NOAA\n",
        "---\n",
        "\n",
        "*   Use the `linregress` function from `scipi.stats` to get the slope and y-intercept of the line of best fit.\n",
        "*   Plot the line of best fit over the top of the scatter plot. \n",
        "*   Make the line go through the year 2030 to predict the sea level rise in 2030\n",
        "\n",
        "*(Hint:  use numpy to create an array from the first year to 2030 with an increment of 1 AND remember to use noaa, which has NaN rows removed)*"
      ]
    },
    {
      "cell_type": "code",
      "metadata": {
        "id": "WZqP7hoO3Iw_"
      },
      "source": [
        "# get scope and y-intercept\n",
        "\n",
        "\n",
        "# create an extended range for x to predict sea level in 2030\n",
        "\n",
        "# draw the scatter plot with line of best fit\n"
      ],
      "execution_count": null,
      "outputs": []
    },
    {
      "cell_type": "markdown",
      "metadata": {
        "id": "52PpgSXk38eD"
      },
      "source": [
        "\n",
        "### Exercise 6 - shorter range (starting 2000)\n",
        "---\n",
        "\n",
        "Plot a new line of best fit just using the data from year 2000 through the most recent year in the dataset and using the CSIRO adjusted levels. Make the line also go through the year 2050 to predict the sea level rise in 2050 if the rate of rise continues as it has since the year 2000."
      ]
    },
    {
      "cell_type": "code",
      "metadata": {
        "id": "3yG0tWfS4GRN"
      },
      "source": [
        "# get scope and y-intercept\n",
        "\n",
        "\n",
        "# create an extended range for x to predict sea level in 2050\n",
        "\n",
        "\n",
        "# draw the scatter plot with line of best fit\n",
        "\n"
      ],
      "execution_count": null,
      "outputs": []
    },
    {
      "cell_type": "markdown",
      "metadata": {
        "id": "AO-0vV1m40Ia"
      },
      "source": [
        "### Exercise 6 - add labels to the axes  \n",
        "---\n",
        "\n",
        "The x label should be \"Year\", the y label should be \"Sea Level (inches)\", and the title should be \"Rise in Sea Level\""
      ]
    },
    {
      "cell_type": "code",
      "metadata": {
        "id": "GSY4WpDy47VC"
      },
      "source": [
        "# get scope and y-intercept\n",
        "\n",
        "# create an extended range for x to predict sea level in 2050\n",
        "\n",
        "\n",
        "# draw the scatter plot with line of best fit\n"
      ],
      "execution_count": null,
      "outputs": []
    }
  ]
}