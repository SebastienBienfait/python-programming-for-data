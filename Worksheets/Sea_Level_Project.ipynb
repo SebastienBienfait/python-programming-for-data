{
  "nbformat": 4,
  "nbformat_minor": 0,
  "metadata": {
    "colab": {
      "name": "Sea-Level-Project.ipynb",
      "provenance": [],
      "authorship_tag": "ABX9TyMTcK6zD0rbBvoRiVT7YqH4",
      "include_colab_link": true
    },
    "kernelspec": {
      "name": "python3",
      "display_name": "Python 3"
    },
    "language_info": {
      "name": "python"
    }
  },
  "cells": [
    {
      "cell_type": "markdown",
      "metadata": {
        "id": "view-in-github",
        "colab_type": "text"
      },
      "source": [
        "<a href=\"https://colab.research.google.com/github/futureCodersSE/python-programming-for-data/blob/main/Worksheets/Sea_Level_Project.ipynb\" target=\"_parent\"><img src=\"https://colab.research.google.com/assets/colab-badge.svg\" alt=\"Open In Colab\"/></a>"
      ]
    },
    {
      "cell_type": "markdown",
      "source": [
        "# Using linear regression to predict sea level\n",
        "---\n",
        "\n",
        "For this exercise:\n",
        "*  import the pandas library\n",
        "*  import the numpy library\n",
        "*  read the csv dataset containing data on sea-leve from the year 1880 to 2013 into a dataframe (df)\n",
        "*  use df.head() and df.info() to inspect the data and the column data types\n",
        "*  create a numpy array **year** from the 'Year' column\n",
        "*  create a numpy array **level** from the 'CSIRO Adjusted Sea Level' column\n",
        "\n"
      ],
      "metadata": {
        "id": "jBYNdCdQ9_cu"
      }
    },
    {
      "cell_type": "code",
      "source": [
        ""
      ],
      "metadata": {
        "id": "r1XUCWHV_Cj9"
      },
      "execution_count": null,
      "outputs": []
    },
    {
      "cell_type": "markdown",
      "source": [
        "Now use the matplotlib.pyplot library (aliased as plt) to create a scatter plot.\n",
        "\n",
        "*  import the matplotlib.pyplot library (`from matplotlib import pyplot as plt`)\n",
        "*  plot a scatter plot of year against level (`plt.scatter(year, level)` )\n",
        "*  add titles to the x and y axis (`plt.xlabels(year)`, `plt.ylabels(level)`)\n",
        "*  run the code to show the plot"
      ],
      "metadata": {
        "id": "ddDwNPDX_Dit"
      }
    },
    {
      "cell_type": "code",
      "source": [
        ""
      ],
      "metadata": {
        "id": "dCfCvizEAYAU"
      },
      "execution_count": null,
      "outputs": []
    },
    {
      "cell_type": "markdown",
      "source": [
        "Now run the linear regression to get the slope and intercept of the line of best fit, the r_value, the p_value and the standard error (std_err)\n",
        "\n",
        "*  import the stats library from scipy (`from scipy import stats`)\n",
        "*  get the result of the linear regression (`slope, intercept, r_value, p_value, std_err = stats.linregress(year_plot,level`)\n",
        "*  calculate the plot points for the line of best fit using the formula for a straight line ( y = mx + c ) or (level = slope * year + intercept).  The x values for the line need to start from 0 to allow the line to plot correctly so subtract 1880 from each value in the year array.  To do this, create a new array called **level_line** using the formula `level_line = (year-1880) * slope + intercept`\n",
        "*  plot the line on top of the scatter plot (`plt.plot(year, level_line)` )\n",
        "*  show the two plots together ( `plt.show()`)"
      ],
      "metadata": {
        "id": "iHS7qcYOAYQk"
      }
    },
    {
      "cell_type": "code",
      "execution_count": null,
      "metadata": {
        "id": "8VWUtmK4YhoU"
      },
      "outputs": [],
      "source": [
        ""
      ]
    },
    {
      "cell_type": "markdown",
      "metadata": {
        "id": "yQyytEbnZ1lw"
      },
      "source": [
        "# Reflection\n",
        "----\n",
        "\n",
        "## What skills have you demonstrated in completing this notebook?"
      ]
    },
    {
      "cell_type": "markdown",
      "metadata": {
        "id": "MM00hR5aZk1-"
      },
      "source": [
        "Your answer: "
      ]
    },
    {
      "cell_type": "markdown",
      "metadata": {
        "id": "Zgexd27sZ1ly"
      },
      "source": [
        "## What caused you the most difficulty?"
      ]
    },
    {
      "cell_type": "markdown",
      "metadata": {
        "id": "-Y_nrVBwaGXr"
      },
      "source": [
        "Your answer: "
      ]
    }
  ]
}