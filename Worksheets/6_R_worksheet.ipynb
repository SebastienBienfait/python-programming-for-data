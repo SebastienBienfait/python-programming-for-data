{
  "nbformat": 4,
  "nbformat_minor": 5,
  "metadata": {
    "kernelspec": {
      "display_name": "R",
      "language": "R",
      "name": "ir"
    },
    "colab": {
      "name": "6. R worksheet.ipynb",
      "provenance": [],
      "collapsed_sections": [],
      "include_colab_link": true
    }
  },
  "cells": [
    {
      "cell_type": "markdown",
      "metadata": {
        "id": "view-in-github",
        "colab_type": "text"
      },
      "source": [
        "<a href=\"https://colab.research.google.com/github/futureCodersSE/python-programming-for-data/blob/main/Worksheets/6_R_worksheet.ipynb\" target=\"_parent\"><img src=\"https://colab.research.google.com/assets/colab-badge.svg\" alt=\"Open In Colab\"/></a>"
      ]
    },
    {
      "cell_type": "markdown",
      "metadata": {
        "id": "13ce0267"
      },
      "source": [
        "# Using R for data analysis # \n",
        "\n",
        "R is a powerful statistical tool used frequently in science academia. Similar to Python, to use R effectively, we must use a variety of libraries.  \n",
        "\n",
        "**Run the cell block below to install and load the necessary packages**"
      ],
      "id": "13ce0267"
    },
    {
      "cell_type": "code",
      "metadata": {
        "id": "92ad1352",
        "colab": {
          "base_uri": "https://localhost:8080/"
        },
        "outputId": "780e44b4-151b-4cc6-c44c-1f3391022696"
      },
      "source": [
        "# this code needs to be run once to install the packages on your system\n",
        "# install.packages(\"tidyverse\")\n",
        "# install.packages(\"ggplot2\")\n",
        "install.packages(\"fastDummies\")"
      ],
      "id": "92ad1352",
      "execution_count": null,
      "outputs": [
        {
          "output_type": "stream",
          "text": [
            "Installing package into ‘/usr/local/lib/R/site-library’\n",
            "(as ‘lib’ is unspecified)\n",
            "\n"
          ],
          "name": "stderr"
        }
      ]
    },
    {
      "cell_type": "markdown",
      "metadata": {
        "id": "3wLXFZ00rPXM"
      },
      "source": [
        "**Run the cell block below here to open the packages ready for use**"
      ],
      "id": "3wLXFZ00rPXM"
    },
    {
      "cell_type": "code",
      "metadata": {
        "id": "7ad1e610",
        "colab": {
          "base_uri": "https://localhost:8080/"
        },
        "outputId": "dc597953-f37d-424b-b7b1-a0401d4ab0bc"
      },
      "source": [
        "# this code needs to be run to open the packages \n",
        "\n",
        "# tidyverse includes dpylr which includes all the functions such as mutate, select, summarise etc\n",
        "library(\"tidyverse\")\n",
        "\n",
        "# ggplot2 contains all the visualisation tools (similar to matplotlib)\n",
        "library(\"ggplot2\")\n",
        "\n",
        "# fastdummies is for dummy coding\n",
        "library(\"fastDummies\")\n",
        "\n",
        "# displaying in real numbers \n",
        "\n",
        "options(scipen = 999)"
      ],
      "id": "7ad1e610",
      "execution_count": null,
      "outputs": [
        {
          "output_type": "stream",
          "text": [
            "Warning message in system(\"timedatectl\", intern = TRUE):\n",
            "“running command 'timedatectl' had status 1”\n",
            "── \u001b[1mAttaching packages\u001b[22m ─────────────────────────────────────── tidyverse 1.3.1 ──\n",
            "\n",
            "\u001b[32m✔\u001b[39m \u001b[34mggplot2\u001b[39m 3.3.5     \u001b[32m✔\u001b[39m \u001b[34mpurrr  \u001b[39m 0.3.4\n",
            "\u001b[32m✔\u001b[39m \u001b[34mtibble \u001b[39m 3.1.2     \u001b[32m✔\u001b[39m \u001b[34mdplyr  \u001b[39m 1.0.7\n",
            "\u001b[32m✔\u001b[39m \u001b[34mtidyr  \u001b[39m 1.1.3     \u001b[32m✔\u001b[39m \u001b[34mstringr\u001b[39m 1.4.0\n",
            "\u001b[32m✔\u001b[39m \u001b[34mreadr  \u001b[39m 1.4.0     \u001b[32m✔\u001b[39m \u001b[34mforcats\u001b[39m 0.5.1\n",
            "\n",
            "── \u001b[1mConflicts\u001b[22m ────────────────────────────────────────── tidyverse_conflicts() ──\n",
            "\u001b[31m✖\u001b[39m \u001b[34mdplyr\u001b[39m::\u001b[32mfilter()\u001b[39m masks \u001b[34mstats\u001b[39m::filter()\n",
            "\u001b[31m✖\u001b[39m \u001b[34mdplyr\u001b[39m::\u001b[32mlag()\u001b[39m    masks \u001b[34mstats\u001b[39m::lag()\n",
            "\n"
          ],
          "name": "stderr"
        }
      ]
    },
    {
      "cell_type": "markdown",
      "metadata": {
        "id": "e7e51ad2"
      },
      "source": [
        "### In this worksheet you will be analysing student performance data and performing a multiple linear regression. ###\n",
        "\n",
        "url = \"https://raw.githubusercontent.com/lilaceri/Working-with-data-/main/exams.csv\"\n",
        "\n",
        "### Setting variables ### \n",
        "\n",
        "```variable <- ...```\n",
        "\n",
        "**In R we use <- instead of using = python** \n",
        "\n",
        "### Reading data from our computer into a variable ###\n",
        "\n",
        "```data <- read_csv(\"data.csv\")```\n",
        "\n",
        "### Reading data from a URL into a variable ###\n",
        "\n",
        "```data <- read_csv(\"https://raw.github.com/file.csv\")```\n",
        "\n",
        "### Look at the first few rows of the dataset ###\n",
        "\n",
        "```head(data)```\n",
        "\n",
        "### Summary of the data ###\n",
        "\n",
        "```summary(data)```"
      ],
      "id": "e7e51ad2"
    },
    {
      "cell_type": "markdown",
      "metadata": {
        "id": "f80ef2b6"
      },
      "source": [
        "## Exercise 1\n",
        "---\n",
        "\n",
        "Read the data into a variable and have a look at it. "
      ],
      "id": "f80ef2b6"
    },
    {
      "cell_type": "code",
      "metadata": {
        "id": "278012b6",
        "colab": {
          "base_uri": "https://localhost:8080/"
        },
        "outputId": "d1e98b6e-2618-4094-cab0-5fb9a8687ef7"
      },
      "source": [
        "url <- \"https://raw.githubusercontent.com/lilaceri/Working-with-data-/main/exams.csv\"\n",
        "exam_data <- read_csv(url)"
      ],
      "id": "278012b6",
      "execution_count": null,
      "outputs": [
        {
          "output_type": "stream",
          "text": [
            "\n",
            "\u001b[36m──\u001b[39m \u001b[1m\u001b[1mColumn specification\u001b[1m\u001b[22m \u001b[36m────────────────────────────────────────────────────────\u001b[39m\n",
            "cols(\n",
            "  gender = \u001b[31mcol_character()\u001b[39m,\n",
            "  ethnicity = \u001b[31mcol_character()\u001b[39m,\n",
            "  parental_education = \u001b[31mcol_character()\u001b[39m,\n",
            "  lunch = \u001b[31mcol_character()\u001b[39m,\n",
            "  preparation_course = \u001b[31mcol_character()\u001b[39m,\n",
            "  math_score = \u001b[32mcol_double()\u001b[39m,\n",
            "  reading_score = \u001b[32mcol_double()\u001b[39m,\n",
            "  writing_score = \u001b[32mcol_double()\u001b[39m\n",
            ")\n",
            "\n",
            "\n"
          ],
          "name": "stderr"
        }
      ]
    },
    {
      "cell_type": "markdown",
      "metadata": {
        "id": "f22b0df3"
      },
      "source": [
        "# Lets have a look at the data ###\n",
        "\n",
        "We can use the `arrange()` function to sort the data or `desc()` function to sort into descending order\n",
        "\n",
        "```\n",
        "arranged_column <- arrange(data, column_name)\n",
        "head(arranged_column)\n",
        "tail(arranged_column)\n",
        "summary(arranged_column)\n",
        "```\n",
        "\n",
        "We can use the select() function to look at specific columns\n",
        "\n",
        "```\n",
        "column_specific <- select(data, column_1, column_2)\n",
        "column_specific\n",
        "```\n",
        "\n",
        "\n",
        "\n",
        "### Exercise 2 ###\n",
        "---\n",
        "\n",
        "Now have a go looking at the data in different ways, using the functions above:"
      ],
      "id": "f22b0df3"
    },
    {
      "cell_type": "code",
      "metadata": {
        "id": "e99d1914"
      },
      "source": [
        ""
      ],
      "id": "e99d1914",
      "execution_count": null,
      "outputs": []
    },
    {
      "cell_type": "markdown",
      "metadata": {
        "id": "ed7b8c0d"
      },
      "source": [
        "# Prepare the data for a linear regression\n",
        "\n",
        "Rows containing null, or error-prone values can affect statistics such as measures of central tendency (e.g. mean, median) and operations such as linear regressions, reducing accuracy.\n",
        "\n",
        "To check for null values we can use:\n",
        "\n",
        "``` is.na(data) ```\n",
        "\n",
        "To remove rows which contain null values we can use:  \n",
        "\n",
        "``` na.omit(data) ``` \n",
        "\n",
        "This data has no missing values\n",
        "\n",
        "\n",
        "### Exercise 3\n",
        "---\n",
        "\n",
        "Check your dataframe for null values and remove rows with null values if necessary"
      ],
      "id": "ed7b8c0d"
    },
    {
      "cell_type": "code",
      "metadata": {
        "id": "7f261cc0",
        "colab": {
          "base_uri": "https://localhost:8080/",
          "height": 1000
        },
        "outputId": "6f1f4d3e-872d-4250-c8ab-2f9e85d9cf48"
      },
      "source": [
        "is.na(exam_data)"
      ],
      "id": "7f261cc0",
      "execution_count": null,
      "outputs": [
        {
          "output_type": "display_data",
          "data": {
            "text/plain": [
              "      gender ethnicity parental_education lunch preparation_course math_score\n",
              " [1,] FALSE  FALSE     FALSE              FALSE FALSE              FALSE     \n",
              " [2,] FALSE  FALSE     FALSE              FALSE FALSE              FALSE     \n",
              " [3,] FALSE  FALSE     FALSE              FALSE FALSE              FALSE     \n",
              " [4,] FALSE  FALSE     FALSE              FALSE FALSE              FALSE     \n",
              " [5,] FALSE  FALSE     FALSE              FALSE FALSE              FALSE     \n",
              " [6,] FALSE  FALSE     FALSE              FALSE FALSE              FALSE     \n",
              " [7,] FALSE  FALSE     FALSE              FALSE FALSE              FALSE     \n",
              " [8,] FALSE  FALSE     FALSE              FALSE FALSE              FALSE     \n",
              " [9,] FALSE  FALSE     FALSE              FALSE FALSE              FALSE     \n",
              "[10,] FALSE  FALSE     FALSE              FALSE FALSE              FALSE     \n",
              "[11,] FALSE  FALSE     FALSE              FALSE FALSE              FALSE     \n",
              "[12,] FALSE  FALSE     FALSE              FALSE FALSE              FALSE     \n",
              "[13,] FALSE  FALSE     FALSE              FALSE FALSE              FALSE     \n",
              "[14,] FALSE  FALSE     FALSE              FALSE FALSE              FALSE     \n",
              "[15,] FALSE  FALSE     FALSE              FALSE FALSE              FALSE     \n",
              "[16,] FALSE  FALSE     FALSE              FALSE FALSE              FALSE     \n",
              "[17,] FALSE  FALSE     FALSE              FALSE FALSE              FALSE     \n",
              "[18,] FALSE  FALSE     FALSE              FALSE FALSE              FALSE     \n",
              "[19,] FALSE  FALSE     FALSE              FALSE FALSE              FALSE     \n",
              "[20,] FALSE  FALSE     FALSE              FALSE FALSE              FALSE     \n",
              "[21,] FALSE  FALSE     FALSE              FALSE FALSE              FALSE     \n",
              "[22,] FALSE  FALSE     FALSE              FALSE FALSE              FALSE     \n",
              "[23,] FALSE  FALSE     FALSE              FALSE FALSE              FALSE     \n",
              "[24,] FALSE  FALSE     FALSE              FALSE FALSE              FALSE     \n",
              "[25,] FALSE  FALSE     FALSE              FALSE FALSE              FALSE     \n",
              "[26,] FALSE  FALSE     FALSE              FALSE FALSE              FALSE     \n",
              "[27,] FALSE  FALSE     FALSE              FALSE FALSE              FALSE     \n",
              "[28,] FALSE  FALSE     FALSE              FALSE FALSE              FALSE     \n",
              "[29,] FALSE  FALSE     FALSE              FALSE FALSE              FALSE     \n",
              "[30,] FALSE  FALSE     FALSE              FALSE FALSE              FALSE     \n",
              "[31,] ⋮      ⋮         ⋮                  ⋮     ⋮                  ⋮         \n",
              "[32,] FALSE  FALSE     FALSE              FALSE FALSE              FALSE     \n",
              "[33,] FALSE  FALSE     FALSE              FALSE FALSE              FALSE     \n",
              "[34,] FALSE  FALSE     FALSE              FALSE FALSE              FALSE     \n",
              "[35,] FALSE  FALSE     FALSE              FALSE FALSE              FALSE     \n",
              "[36,] FALSE  FALSE     FALSE              FALSE FALSE              FALSE     \n",
              "[37,] FALSE  FALSE     FALSE              FALSE FALSE              FALSE     \n",
              "[38,] FALSE  FALSE     FALSE              FALSE FALSE              FALSE     \n",
              "[39,] FALSE  FALSE     FALSE              FALSE FALSE              FALSE     \n",
              "[40,] FALSE  FALSE     FALSE              FALSE FALSE              FALSE     \n",
              "[41,] FALSE  FALSE     FALSE              FALSE FALSE              FALSE     \n",
              "[42,] FALSE  FALSE     FALSE              FALSE FALSE              FALSE     \n",
              "[43,] FALSE  FALSE     FALSE              FALSE FALSE              FALSE     \n",
              "[44,] FALSE  FALSE     FALSE              FALSE FALSE              FALSE     \n",
              "[45,] FALSE  FALSE     FALSE              FALSE FALSE              FALSE     \n",
              "[46,] FALSE  FALSE     FALSE              FALSE FALSE              FALSE     \n",
              "[47,] FALSE  FALSE     FALSE              FALSE FALSE              FALSE     \n",
              "[48,] FALSE  FALSE     FALSE              FALSE FALSE              FALSE     \n",
              "[49,] FALSE  FALSE     FALSE              FALSE FALSE              FALSE     \n",
              "[50,] FALSE  FALSE     FALSE              FALSE FALSE              FALSE     \n",
              "[51,] FALSE  FALSE     FALSE              FALSE FALSE              FALSE     \n",
              "[52,] FALSE  FALSE     FALSE              FALSE FALSE              FALSE     \n",
              "[53,] FALSE  FALSE     FALSE              FALSE FALSE              FALSE     \n",
              "[54,] FALSE  FALSE     FALSE              FALSE FALSE              FALSE     \n",
              "[55,] FALSE  FALSE     FALSE              FALSE FALSE              FALSE     \n",
              "[56,] FALSE  FALSE     FALSE              FALSE FALSE              FALSE     \n",
              "[57,] FALSE  FALSE     FALSE              FALSE FALSE              FALSE     \n",
              "[58,] FALSE  FALSE     FALSE              FALSE FALSE              FALSE     \n",
              "[59,] FALSE  FALSE     FALSE              FALSE FALSE              FALSE     \n",
              "[60,] FALSE  FALSE     FALSE              FALSE FALSE              FALSE     \n",
              "[61,] FALSE  FALSE     FALSE              FALSE FALSE              FALSE     \n",
              "      reading_score writing_score\n",
              " [1,] FALSE         FALSE        \n",
              " [2,] FALSE         FALSE        \n",
              " [3,] FALSE         FALSE        \n",
              " [4,] FALSE         FALSE        \n",
              " [5,] FALSE         FALSE        \n",
              " [6,] FALSE         FALSE        \n",
              " [7,] FALSE         FALSE        \n",
              " [8,] FALSE         FALSE        \n",
              " [9,] FALSE         FALSE        \n",
              "[10,] FALSE         FALSE        \n",
              "[11,] FALSE         FALSE        \n",
              "[12,] FALSE         FALSE        \n",
              "[13,] FALSE         FALSE        \n",
              "[14,] FALSE         FALSE        \n",
              "[15,] FALSE         FALSE        \n",
              "[16,] FALSE         FALSE        \n",
              "[17,] FALSE         FALSE        \n",
              "[18,] FALSE         FALSE        \n",
              "[19,] FALSE         FALSE        \n",
              "[20,] FALSE         FALSE        \n",
              "[21,] FALSE         FALSE        \n",
              "[22,] FALSE         FALSE        \n",
              "[23,] FALSE         FALSE        \n",
              "[24,] FALSE         FALSE        \n",
              "[25,] FALSE         FALSE        \n",
              "[26,] FALSE         FALSE        \n",
              "[27,] FALSE         FALSE        \n",
              "[28,] FALSE         FALSE        \n",
              "[29,] FALSE         FALSE        \n",
              "[30,] FALSE         FALSE        \n",
              "[31,] ⋮             ⋮            \n",
              "[32,] FALSE         FALSE        \n",
              "[33,] FALSE         FALSE        \n",
              "[34,] FALSE         FALSE        \n",
              "[35,] FALSE         FALSE        \n",
              "[36,] FALSE         FALSE        \n",
              "[37,] FALSE         FALSE        \n",
              "[38,] FALSE         FALSE        \n",
              "[39,] FALSE         FALSE        \n",
              "[40,] FALSE         FALSE        \n",
              "[41,] FALSE         FALSE        \n",
              "[42,] FALSE         FALSE        \n",
              "[43,] FALSE         FALSE        \n",
              "[44,] FALSE         FALSE        \n",
              "[45,] FALSE         FALSE        \n",
              "[46,] FALSE         FALSE        \n",
              "[47,] FALSE         FALSE        \n",
              "[48,] FALSE         FALSE        \n",
              "[49,] FALSE         FALSE        \n",
              "[50,] FALSE         FALSE        \n",
              "[51,] FALSE         FALSE        \n",
              "[52,] FALSE         FALSE        \n",
              "[53,] FALSE         FALSE        \n",
              "[54,] FALSE         FALSE        \n",
              "[55,] FALSE         FALSE        \n",
              "[56,] FALSE         FALSE        \n",
              "[57,] FALSE         FALSE        \n",
              "[58,] FALSE         FALSE        \n",
              "[59,] FALSE         FALSE        \n",
              "[60,] FALSE         FALSE        \n",
              "[61,] FALSE         FALSE        "
            ],
            "text/latex": "A matrix: 1000 × 8 of type lgl\n\\begin{tabular}{llllllll}\n gender & ethnicity & parental\\_education & lunch & preparation\\_course & math\\_score & reading\\_score & writing\\_score\\\\\n\\hline\n\t FALSE & FALSE & FALSE & FALSE & FALSE & FALSE & FALSE & FALSE\\\\\n\t FALSE & FALSE & FALSE & FALSE & FALSE & FALSE & FALSE & FALSE\\\\\n\t FALSE & FALSE & FALSE & FALSE & FALSE & FALSE & FALSE & FALSE\\\\\n\t FALSE & FALSE & FALSE & FALSE & FALSE & FALSE & FALSE & FALSE\\\\\n\t FALSE & FALSE & FALSE & FALSE & FALSE & FALSE & FALSE & FALSE\\\\\n\t FALSE & FALSE & FALSE & FALSE & FALSE & FALSE & FALSE & FALSE\\\\\n\t FALSE & FALSE & FALSE & FALSE & FALSE & FALSE & FALSE & FALSE\\\\\n\t FALSE & FALSE & FALSE & FALSE & FALSE & FALSE & FALSE & FALSE\\\\\n\t FALSE & FALSE & FALSE & FALSE & FALSE & FALSE & FALSE & FALSE\\\\\n\t FALSE & FALSE & FALSE & FALSE & FALSE & FALSE & FALSE & FALSE\\\\\n\t FALSE & FALSE & FALSE & FALSE & FALSE & FALSE & FALSE & FALSE\\\\\n\t FALSE & FALSE & FALSE & FALSE & FALSE & FALSE & FALSE & FALSE\\\\\n\t FALSE & FALSE & FALSE & FALSE & FALSE & FALSE & FALSE & FALSE\\\\\n\t FALSE & FALSE & FALSE & FALSE & FALSE & FALSE & FALSE & FALSE\\\\\n\t FALSE & FALSE & FALSE & FALSE & FALSE & FALSE & FALSE & FALSE\\\\\n\t FALSE & FALSE & FALSE & FALSE & FALSE & FALSE & FALSE & FALSE\\\\\n\t FALSE & FALSE & FALSE & FALSE & FALSE & FALSE & FALSE & FALSE\\\\\n\t FALSE & FALSE & FALSE & FALSE & FALSE & FALSE & FALSE & FALSE\\\\\n\t FALSE & FALSE & FALSE & FALSE & FALSE & FALSE & FALSE & FALSE\\\\\n\t FALSE & FALSE & FALSE & FALSE & FALSE & FALSE & FALSE & FALSE\\\\\n\t FALSE & FALSE & FALSE & FALSE & FALSE & FALSE & FALSE & FALSE\\\\\n\t FALSE & FALSE & FALSE & FALSE & FALSE & FALSE & FALSE & FALSE\\\\\n\t FALSE & FALSE & FALSE & FALSE & FALSE & FALSE & FALSE & FALSE\\\\\n\t FALSE & FALSE & FALSE & FALSE & FALSE & FALSE & FALSE & FALSE\\\\\n\t FALSE & FALSE & FALSE & FALSE & FALSE & FALSE & FALSE & FALSE\\\\\n\t FALSE & FALSE & FALSE & FALSE & FALSE & FALSE & FALSE & FALSE\\\\\n\t FALSE & FALSE & FALSE & FALSE & FALSE & FALSE & FALSE & FALSE\\\\\n\t FALSE & FALSE & FALSE & FALSE & FALSE & FALSE & FALSE & FALSE\\\\\n\t FALSE & FALSE & FALSE & FALSE & FALSE & FALSE & FALSE & FALSE\\\\\n\t FALSE & FALSE & FALSE & FALSE & FALSE & FALSE & FALSE & FALSE\\\\\n\t ⋮ & ⋮ & ⋮ & ⋮ & ⋮ & ⋮ & ⋮ & ⋮\\\\\n\t FALSE & FALSE & FALSE & FALSE & FALSE & FALSE & FALSE & FALSE\\\\\n\t FALSE & FALSE & FALSE & FALSE & FALSE & FALSE & FALSE & FALSE\\\\\n\t FALSE & FALSE & FALSE & FALSE & FALSE & FALSE & FALSE & FALSE\\\\\n\t FALSE & FALSE & FALSE & FALSE & FALSE & FALSE & FALSE & FALSE\\\\\n\t FALSE & FALSE & FALSE & FALSE & FALSE & FALSE & FALSE & FALSE\\\\\n\t FALSE & FALSE & FALSE & FALSE & FALSE & FALSE & FALSE & FALSE\\\\\n\t FALSE & FALSE & FALSE & FALSE & FALSE & FALSE & FALSE & FALSE\\\\\n\t FALSE & FALSE & FALSE & FALSE & FALSE & FALSE & FALSE & FALSE\\\\\n\t FALSE & FALSE & FALSE & FALSE & FALSE & FALSE & FALSE & FALSE\\\\\n\t FALSE & FALSE & FALSE & FALSE & FALSE & FALSE & FALSE & FALSE\\\\\n\t FALSE & FALSE & FALSE & FALSE & FALSE & FALSE & FALSE & FALSE\\\\\n\t FALSE & FALSE & FALSE & FALSE & FALSE & FALSE & FALSE & FALSE\\\\\n\t FALSE & FALSE & FALSE & FALSE & FALSE & FALSE & FALSE & FALSE\\\\\n\t FALSE & FALSE & FALSE & FALSE & FALSE & FALSE & FALSE & FALSE\\\\\n\t FALSE & FALSE & FALSE & FALSE & FALSE & FALSE & FALSE & FALSE\\\\\n\t FALSE & FALSE & FALSE & FALSE & FALSE & FALSE & FALSE & FALSE\\\\\n\t FALSE & FALSE & FALSE & FALSE & FALSE & FALSE & FALSE & FALSE\\\\\n\t FALSE & FALSE & FALSE & FALSE & FALSE & FALSE & FALSE & FALSE\\\\\n\t FALSE & FALSE & FALSE & FALSE & FALSE & FALSE & FALSE & FALSE\\\\\n\t FALSE & FALSE & FALSE & FALSE & FALSE & FALSE & FALSE & FALSE\\\\\n\t FALSE & FALSE & FALSE & FALSE & FALSE & FALSE & FALSE & FALSE\\\\\n\t FALSE & FALSE & FALSE & FALSE & FALSE & FALSE & FALSE & FALSE\\\\\n\t FALSE & FALSE & FALSE & FALSE & FALSE & FALSE & FALSE & FALSE\\\\\n\t FALSE & FALSE & FALSE & FALSE & FALSE & FALSE & FALSE & FALSE\\\\\n\t FALSE & FALSE & FALSE & FALSE & FALSE & FALSE & FALSE & FALSE\\\\\n\t FALSE & FALSE & FALSE & FALSE & FALSE & FALSE & FALSE & FALSE\\\\\n\t FALSE & FALSE & FALSE & FALSE & FALSE & FALSE & FALSE & FALSE\\\\\n\t FALSE & FALSE & FALSE & FALSE & FALSE & FALSE & FALSE & FALSE\\\\\n\t FALSE & FALSE & FALSE & FALSE & FALSE & FALSE & FALSE & FALSE\\\\\n\t FALSE & FALSE & FALSE & FALSE & FALSE & FALSE & FALSE & FALSE\\\\\n\\end{tabular}\n",
            "text/markdown": "\nA matrix: 1000 × 8 of type lgl\n\n| gender | ethnicity | parental_education | lunch | preparation_course | math_score | reading_score | writing_score |\n|---|---|---|---|---|---|---|---|\n| FALSE | FALSE | FALSE | FALSE | FALSE | FALSE | FALSE | FALSE |\n| FALSE | FALSE | FALSE | FALSE | FALSE | FALSE | FALSE | FALSE |\n| FALSE | FALSE | FALSE | FALSE | FALSE | FALSE | FALSE | FALSE |\n| FALSE | FALSE | FALSE | FALSE | FALSE | FALSE | FALSE | FALSE |\n| FALSE | FALSE | FALSE | FALSE | FALSE | FALSE | FALSE | FALSE |\n| FALSE | FALSE | FALSE | FALSE | FALSE | FALSE | FALSE | FALSE |\n| FALSE | FALSE | FALSE | FALSE | FALSE | FALSE | FALSE | FALSE |\n| FALSE | FALSE | FALSE | FALSE | FALSE | FALSE | FALSE | FALSE |\n| FALSE | FALSE | FALSE | FALSE | FALSE | FALSE | FALSE | FALSE |\n| FALSE | FALSE | FALSE | FALSE | FALSE | FALSE | FALSE | FALSE |\n| FALSE | FALSE | FALSE | FALSE | FALSE | FALSE | FALSE | FALSE |\n| FALSE | FALSE | FALSE | FALSE | FALSE | FALSE | FALSE | FALSE |\n| FALSE | FALSE | FALSE | FALSE | FALSE | FALSE | FALSE | FALSE |\n| FALSE | FALSE | FALSE | FALSE | FALSE | FALSE | FALSE | FALSE |\n| FALSE | FALSE | FALSE | FALSE | FALSE | FALSE | FALSE | FALSE |\n| FALSE | FALSE | FALSE | FALSE | FALSE | FALSE | FALSE | FALSE |\n| FALSE | FALSE | FALSE | FALSE | FALSE | FALSE | FALSE | FALSE |\n| FALSE | FALSE | FALSE | FALSE | FALSE | FALSE | FALSE | FALSE |\n| FALSE | FALSE | FALSE | FALSE | FALSE | FALSE | FALSE | FALSE |\n| FALSE | FALSE | FALSE | FALSE | FALSE | FALSE | FALSE | FALSE |\n| FALSE | FALSE | FALSE | FALSE | FALSE | FALSE | FALSE | FALSE |\n| FALSE | FALSE | FALSE | FALSE | FALSE | FALSE | FALSE | FALSE |\n| FALSE | FALSE | FALSE | FALSE | FALSE | FALSE | FALSE | FALSE |\n| FALSE | FALSE | FALSE | FALSE | FALSE | FALSE | FALSE | FALSE |\n| FALSE | FALSE | FALSE | FALSE | FALSE | FALSE | FALSE | FALSE |\n| FALSE | FALSE | FALSE | FALSE | FALSE | FALSE | FALSE | FALSE |\n| FALSE | FALSE | FALSE | FALSE | FALSE | FALSE | FALSE | FALSE |\n| FALSE | FALSE | FALSE | FALSE | FALSE | FALSE | FALSE | FALSE |\n| FALSE | FALSE | FALSE | FALSE | FALSE | FALSE | FALSE | FALSE |\n| FALSE | FALSE | FALSE | FALSE | FALSE | FALSE | FALSE | FALSE |\n| ⋮ | ⋮ | ⋮ | ⋮ | ⋮ | ⋮ | ⋮ | ⋮ |\n| FALSE | FALSE | FALSE | FALSE | FALSE | FALSE | FALSE | FALSE |\n| FALSE | FALSE | FALSE | FALSE | FALSE | FALSE | FALSE | FALSE |\n| FALSE | FALSE | FALSE | FALSE | FALSE | FALSE | FALSE | FALSE |\n| FALSE | FALSE | FALSE | FALSE | FALSE | FALSE | FALSE | FALSE |\n| FALSE | FALSE | FALSE | FALSE | FALSE | FALSE | FALSE | FALSE |\n| FALSE | FALSE | FALSE | FALSE | FALSE | FALSE | FALSE | FALSE |\n| FALSE | FALSE | FALSE | FALSE | FALSE | FALSE | FALSE | FALSE |\n| FALSE | FALSE | FALSE | FALSE | FALSE | FALSE | FALSE | FALSE |\n| FALSE | FALSE | FALSE | FALSE | FALSE | FALSE | FALSE | FALSE |\n| FALSE | FALSE | FALSE | FALSE | FALSE | FALSE | FALSE | FALSE |\n| FALSE | FALSE | FALSE | FALSE | FALSE | FALSE | FALSE | FALSE |\n| FALSE | FALSE | FALSE | FALSE | FALSE | FALSE | FALSE | FALSE |\n| FALSE | FALSE | FALSE | FALSE | FALSE | FALSE | FALSE | FALSE |\n| FALSE | FALSE | FALSE | FALSE | FALSE | FALSE | FALSE | FALSE |\n| FALSE | FALSE | FALSE | FALSE | FALSE | FALSE | FALSE | FALSE |\n| FALSE | FALSE | FALSE | FALSE | FALSE | FALSE | FALSE | FALSE |\n| FALSE | FALSE | FALSE | FALSE | FALSE | FALSE | FALSE | FALSE |\n| FALSE | FALSE | FALSE | FALSE | FALSE | FALSE | FALSE | FALSE |\n| FALSE | FALSE | FALSE | FALSE | FALSE | FALSE | FALSE | FALSE |\n| FALSE | FALSE | FALSE | FALSE | FALSE | FALSE | FALSE | FALSE |\n| FALSE | FALSE | FALSE | FALSE | FALSE | FALSE | FALSE | FALSE |\n| FALSE | FALSE | FALSE | FALSE | FALSE | FALSE | FALSE | FALSE |\n| FALSE | FALSE | FALSE | FALSE | FALSE | FALSE | FALSE | FALSE |\n| FALSE | FALSE | FALSE | FALSE | FALSE | FALSE | FALSE | FALSE |\n| FALSE | FALSE | FALSE | FALSE | FALSE | FALSE | FALSE | FALSE |\n| FALSE | FALSE | FALSE | FALSE | FALSE | FALSE | FALSE | FALSE |\n| FALSE | FALSE | FALSE | FALSE | FALSE | FALSE | FALSE | FALSE |\n| FALSE | FALSE | FALSE | FALSE | FALSE | FALSE | FALSE | FALSE |\n| FALSE | FALSE | FALSE | FALSE | FALSE | FALSE | FALSE | FALSE |\n| FALSE | FALSE | FALSE | FALSE | FALSE | FALSE | FALSE | FALSE |\n\n",
            "text/html": [
              "<table class=\"dataframe\">\n",
              "<caption>A matrix: 1000 × 8 of type lgl</caption>\n",
              "<thead>\n",
              "\t<tr><th scope=col>gender</th><th scope=col>ethnicity</th><th scope=col>parental_education</th><th scope=col>lunch</th><th scope=col>preparation_course</th><th scope=col>math_score</th><th scope=col>reading_score</th><th scope=col>writing_score</th></tr>\n",
              "</thead>\n",
              "<tbody>\n",
              "\t<tr><td>FALSE</td><td>FALSE</td><td>FALSE</td><td>FALSE</td><td>FALSE</td><td>FALSE</td><td>FALSE</td><td>FALSE</td></tr>\n",
              "\t<tr><td>FALSE</td><td>FALSE</td><td>FALSE</td><td>FALSE</td><td>FALSE</td><td>FALSE</td><td>FALSE</td><td>FALSE</td></tr>\n",
              "\t<tr><td>FALSE</td><td>FALSE</td><td>FALSE</td><td>FALSE</td><td>FALSE</td><td>FALSE</td><td>FALSE</td><td>FALSE</td></tr>\n",
              "\t<tr><td>FALSE</td><td>FALSE</td><td>FALSE</td><td>FALSE</td><td>FALSE</td><td>FALSE</td><td>FALSE</td><td>FALSE</td></tr>\n",
              "\t<tr><td>FALSE</td><td>FALSE</td><td>FALSE</td><td>FALSE</td><td>FALSE</td><td>FALSE</td><td>FALSE</td><td>FALSE</td></tr>\n",
              "\t<tr><td>FALSE</td><td>FALSE</td><td>FALSE</td><td>FALSE</td><td>FALSE</td><td>FALSE</td><td>FALSE</td><td>FALSE</td></tr>\n",
              "\t<tr><td>FALSE</td><td>FALSE</td><td>FALSE</td><td>FALSE</td><td>FALSE</td><td>FALSE</td><td>FALSE</td><td>FALSE</td></tr>\n",
              "\t<tr><td>FALSE</td><td>FALSE</td><td>FALSE</td><td>FALSE</td><td>FALSE</td><td>FALSE</td><td>FALSE</td><td>FALSE</td></tr>\n",
              "\t<tr><td>FALSE</td><td>FALSE</td><td>FALSE</td><td>FALSE</td><td>FALSE</td><td>FALSE</td><td>FALSE</td><td>FALSE</td></tr>\n",
              "\t<tr><td>FALSE</td><td>FALSE</td><td>FALSE</td><td>FALSE</td><td>FALSE</td><td>FALSE</td><td>FALSE</td><td>FALSE</td></tr>\n",
              "\t<tr><td>FALSE</td><td>FALSE</td><td>FALSE</td><td>FALSE</td><td>FALSE</td><td>FALSE</td><td>FALSE</td><td>FALSE</td></tr>\n",
              "\t<tr><td>FALSE</td><td>FALSE</td><td>FALSE</td><td>FALSE</td><td>FALSE</td><td>FALSE</td><td>FALSE</td><td>FALSE</td></tr>\n",
              "\t<tr><td>FALSE</td><td>FALSE</td><td>FALSE</td><td>FALSE</td><td>FALSE</td><td>FALSE</td><td>FALSE</td><td>FALSE</td></tr>\n",
              "\t<tr><td>FALSE</td><td>FALSE</td><td>FALSE</td><td>FALSE</td><td>FALSE</td><td>FALSE</td><td>FALSE</td><td>FALSE</td></tr>\n",
              "\t<tr><td>FALSE</td><td>FALSE</td><td>FALSE</td><td>FALSE</td><td>FALSE</td><td>FALSE</td><td>FALSE</td><td>FALSE</td></tr>\n",
              "\t<tr><td>FALSE</td><td>FALSE</td><td>FALSE</td><td>FALSE</td><td>FALSE</td><td>FALSE</td><td>FALSE</td><td>FALSE</td></tr>\n",
              "\t<tr><td>FALSE</td><td>FALSE</td><td>FALSE</td><td>FALSE</td><td>FALSE</td><td>FALSE</td><td>FALSE</td><td>FALSE</td></tr>\n",
              "\t<tr><td>FALSE</td><td>FALSE</td><td>FALSE</td><td>FALSE</td><td>FALSE</td><td>FALSE</td><td>FALSE</td><td>FALSE</td></tr>\n",
              "\t<tr><td>FALSE</td><td>FALSE</td><td>FALSE</td><td>FALSE</td><td>FALSE</td><td>FALSE</td><td>FALSE</td><td>FALSE</td></tr>\n",
              "\t<tr><td>FALSE</td><td>FALSE</td><td>FALSE</td><td>FALSE</td><td>FALSE</td><td>FALSE</td><td>FALSE</td><td>FALSE</td></tr>\n",
              "\t<tr><td>FALSE</td><td>FALSE</td><td>FALSE</td><td>FALSE</td><td>FALSE</td><td>FALSE</td><td>FALSE</td><td>FALSE</td></tr>\n",
              "\t<tr><td>FALSE</td><td>FALSE</td><td>FALSE</td><td>FALSE</td><td>FALSE</td><td>FALSE</td><td>FALSE</td><td>FALSE</td></tr>\n",
              "\t<tr><td>FALSE</td><td>FALSE</td><td>FALSE</td><td>FALSE</td><td>FALSE</td><td>FALSE</td><td>FALSE</td><td>FALSE</td></tr>\n",
              "\t<tr><td>FALSE</td><td>FALSE</td><td>FALSE</td><td>FALSE</td><td>FALSE</td><td>FALSE</td><td>FALSE</td><td>FALSE</td></tr>\n",
              "\t<tr><td>FALSE</td><td>FALSE</td><td>FALSE</td><td>FALSE</td><td>FALSE</td><td>FALSE</td><td>FALSE</td><td>FALSE</td></tr>\n",
              "\t<tr><td>FALSE</td><td>FALSE</td><td>FALSE</td><td>FALSE</td><td>FALSE</td><td>FALSE</td><td>FALSE</td><td>FALSE</td></tr>\n",
              "\t<tr><td>FALSE</td><td>FALSE</td><td>FALSE</td><td>FALSE</td><td>FALSE</td><td>FALSE</td><td>FALSE</td><td>FALSE</td></tr>\n",
              "\t<tr><td>FALSE</td><td>FALSE</td><td>FALSE</td><td>FALSE</td><td>FALSE</td><td>FALSE</td><td>FALSE</td><td>FALSE</td></tr>\n",
              "\t<tr><td>FALSE</td><td>FALSE</td><td>FALSE</td><td>FALSE</td><td>FALSE</td><td>FALSE</td><td>FALSE</td><td>FALSE</td></tr>\n",
              "\t<tr><td>FALSE</td><td>FALSE</td><td>FALSE</td><td>FALSE</td><td>FALSE</td><td>FALSE</td><td>FALSE</td><td>FALSE</td></tr>\n",
              "\t<tr><td>⋮</td><td>⋮</td><td>⋮</td><td>⋮</td><td>⋮</td><td>⋮</td><td>⋮</td><td>⋮</td></tr>\n",
              "\t<tr><td>FALSE</td><td>FALSE</td><td>FALSE</td><td>FALSE</td><td>FALSE</td><td>FALSE</td><td>FALSE</td><td>FALSE</td></tr>\n",
              "\t<tr><td>FALSE</td><td>FALSE</td><td>FALSE</td><td>FALSE</td><td>FALSE</td><td>FALSE</td><td>FALSE</td><td>FALSE</td></tr>\n",
              "\t<tr><td>FALSE</td><td>FALSE</td><td>FALSE</td><td>FALSE</td><td>FALSE</td><td>FALSE</td><td>FALSE</td><td>FALSE</td></tr>\n",
              "\t<tr><td>FALSE</td><td>FALSE</td><td>FALSE</td><td>FALSE</td><td>FALSE</td><td>FALSE</td><td>FALSE</td><td>FALSE</td></tr>\n",
              "\t<tr><td>FALSE</td><td>FALSE</td><td>FALSE</td><td>FALSE</td><td>FALSE</td><td>FALSE</td><td>FALSE</td><td>FALSE</td></tr>\n",
              "\t<tr><td>FALSE</td><td>FALSE</td><td>FALSE</td><td>FALSE</td><td>FALSE</td><td>FALSE</td><td>FALSE</td><td>FALSE</td></tr>\n",
              "\t<tr><td>FALSE</td><td>FALSE</td><td>FALSE</td><td>FALSE</td><td>FALSE</td><td>FALSE</td><td>FALSE</td><td>FALSE</td></tr>\n",
              "\t<tr><td>FALSE</td><td>FALSE</td><td>FALSE</td><td>FALSE</td><td>FALSE</td><td>FALSE</td><td>FALSE</td><td>FALSE</td></tr>\n",
              "\t<tr><td>FALSE</td><td>FALSE</td><td>FALSE</td><td>FALSE</td><td>FALSE</td><td>FALSE</td><td>FALSE</td><td>FALSE</td></tr>\n",
              "\t<tr><td>FALSE</td><td>FALSE</td><td>FALSE</td><td>FALSE</td><td>FALSE</td><td>FALSE</td><td>FALSE</td><td>FALSE</td></tr>\n",
              "\t<tr><td>FALSE</td><td>FALSE</td><td>FALSE</td><td>FALSE</td><td>FALSE</td><td>FALSE</td><td>FALSE</td><td>FALSE</td></tr>\n",
              "\t<tr><td>FALSE</td><td>FALSE</td><td>FALSE</td><td>FALSE</td><td>FALSE</td><td>FALSE</td><td>FALSE</td><td>FALSE</td></tr>\n",
              "\t<tr><td>FALSE</td><td>FALSE</td><td>FALSE</td><td>FALSE</td><td>FALSE</td><td>FALSE</td><td>FALSE</td><td>FALSE</td></tr>\n",
              "\t<tr><td>FALSE</td><td>FALSE</td><td>FALSE</td><td>FALSE</td><td>FALSE</td><td>FALSE</td><td>FALSE</td><td>FALSE</td></tr>\n",
              "\t<tr><td>FALSE</td><td>FALSE</td><td>FALSE</td><td>FALSE</td><td>FALSE</td><td>FALSE</td><td>FALSE</td><td>FALSE</td></tr>\n",
              "\t<tr><td>FALSE</td><td>FALSE</td><td>FALSE</td><td>FALSE</td><td>FALSE</td><td>FALSE</td><td>FALSE</td><td>FALSE</td></tr>\n",
              "\t<tr><td>FALSE</td><td>FALSE</td><td>FALSE</td><td>FALSE</td><td>FALSE</td><td>FALSE</td><td>FALSE</td><td>FALSE</td></tr>\n",
              "\t<tr><td>FALSE</td><td>FALSE</td><td>FALSE</td><td>FALSE</td><td>FALSE</td><td>FALSE</td><td>FALSE</td><td>FALSE</td></tr>\n",
              "\t<tr><td>FALSE</td><td>FALSE</td><td>FALSE</td><td>FALSE</td><td>FALSE</td><td>FALSE</td><td>FALSE</td><td>FALSE</td></tr>\n",
              "\t<tr><td>FALSE</td><td>FALSE</td><td>FALSE</td><td>FALSE</td><td>FALSE</td><td>FALSE</td><td>FALSE</td><td>FALSE</td></tr>\n",
              "\t<tr><td>FALSE</td><td>FALSE</td><td>FALSE</td><td>FALSE</td><td>FALSE</td><td>FALSE</td><td>FALSE</td><td>FALSE</td></tr>\n",
              "\t<tr><td>FALSE</td><td>FALSE</td><td>FALSE</td><td>FALSE</td><td>FALSE</td><td>FALSE</td><td>FALSE</td><td>FALSE</td></tr>\n",
              "\t<tr><td>FALSE</td><td>FALSE</td><td>FALSE</td><td>FALSE</td><td>FALSE</td><td>FALSE</td><td>FALSE</td><td>FALSE</td></tr>\n",
              "\t<tr><td>FALSE</td><td>FALSE</td><td>FALSE</td><td>FALSE</td><td>FALSE</td><td>FALSE</td><td>FALSE</td><td>FALSE</td></tr>\n",
              "\t<tr><td>FALSE</td><td>FALSE</td><td>FALSE</td><td>FALSE</td><td>FALSE</td><td>FALSE</td><td>FALSE</td><td>FALSE</td></tr>\n",
              "\t<tr><td>FALSE</td><td>FALSE</td><td>FALSE</td><td>FALSE</td><td>FALSE</td><td>FALSE</td><td>FALSE</td><td>FALSE</td></tr>\n",
              "\t<tr><td>FALSE</td><td>FALSE</td><td>FALSE</td><td>FALSE</td><td>FALSE</td><td>FALSE</td><td>FALSE</td><td>FALSE</td></tr>\n",
              "\t<tr><td>FALSE</td><td>FALSE</td><td>FALSE</td><td>FALSE</td><td>FALSE</td><td>FALSE</td><td>FALSE</td><td>FALSE</td></tr>\n",
              "\t<tr><td>FALSE</td><td>FALSE</td><td>FALSE</td><td>FALSE</td><td>FALSE</td><td>FALSE</td><td>FALSE</td><td>FALSE</td></tr>\n",
              "\t<tr><td>FALSE</td><td>FALSE</td><td>FALSE</td><td>FALSE</td><td>FALSE</td><td>FALSE</td><td>FALSE</td><td>FALSE</td></tr>\n",
              "</tbody>\n",
              "</table>\n"
            ]
          },
          "metadata": {
            "tags": []
          }
        }
      ]
    },
    {
      "cell_type": "markdown",
      "metadata": {
        "id": "2062c520"
      },
      "source": [
        "### Visualise data distribution ### \n",
        "---\n",
        "\n",
        "In statistics, when you are preparing data for analysis, you must first check if your data is Gaussian or not (normally distributed). \n",
        "\n",
        "If data is normally distributed, it will have a bell curve and the spread of the data will tend to be small, with the mean centred in the data.\n",
        "\n",
        "The types of statistical test that are meaningful for the data depend on whether or not your data is normally distributed. \n",
        "\n",
        "To check for normality, lets first look at a histogram: \n",
        "\n",
        "**Using the ggplot2 package (similar to pythons Matplotlib):**\n",
        "\n",
        "```qplot(data$column, geom=\"histogram\") ```\n",
        "\n",
        "In R, `$` is used to specify the dataframe and target column so `data$age` would tell R to look at the age column - in Python pandas this would be ```df['age'] ```\n",
        "\n",
        "### Exercise 4 ###\n",
        "---\n",
        "\n",
        "Create histograms to check the distribution of each numeric column in your data (writing_score, reading_score, math_score)"
      ],
      "id": "2062c520"
    },
    {
      "cell_type": "code",
      "metadata": {
        "id": "55e6c624",
        "colab": {
          "base_uri": "https://localhost:8080/",
          "height": 437
        },
        "outputId": "7150eeb9-cae6-4f8c-98cd-667559804a7d"
      },
      "source": [
        "qplot(exam_data$'math_score', geom=\"histogram\", bins=40)"
      ],
      "id": "55e6c624",
      "execution_count": null,
      "outputs": [
        {
          "output_type": "display_data",
          "data": {
            "image/png": "[encoded data removed]",
            "text/plain": [
              "plot without title"
            ]
          },
          "metadata": {
            "tags": [],
            "image/png": {
              "width": 420,
              "height": 420
            }
          }
        }
      ]
    },
    {
      "cell_type": "markdown",
      "metadata": {
        "id": "a6345893"
      },
      "source": [
        "## What about data that isn't numeric?\n",
        "---\n",
        "\n",
        "A linear regression is essentially a mathematical formula, which finds 2 terms (the slope and intercept) and can use that to predict new values. \n",
        "\n",
        "Obviously you cannot do any calculations on words (such as male or female). Therefore, we need to 'dummy code' categorical values such as sex.\n",
        "\n",
        "When R does the mathematical equation for the regression, we do not want the new dummy codes to interfere with the calculation, to get around that, we code the data using 0 and 1. \n",
        "\n",
        "**There are many ways to dummy code your data, but to make things easy we are going to use a package!**\n",
        "\n",
        "``` df_dummy <- dummy_cols(data, select_columns = c('column1', 'column2', 'column3'), remove_first_dummy = TRUE, remove_selected_columns = TRUE) ```\n",
        "\n",
        "The above code sets the new dataframe in a variable called `df_dummy`, it then states which dataframe we mean, then in the brackets, you put the column names that you want dummy coded. \n",
        "\n",
        "```remove_selected_columns = TRUE``` tells R to delete the existing categorical data columns afterwards\n",
        "\n",
        "```remove_first_dummy = TRUE``` tells R to remove the first dummy column. dummy_cols will create one column for each categorical value in the original column (so the sex columns becomes 2 columns called sex_female and sex_male) So removing the first column would leave the column sex__male,  where 1 means male and 0 means female. Removing the first ethnicity column leaves the other 4 columns and any row that has 0 in all four columns can be assumed to be ethnicity A.  This is important as it stops multicollinearity in your model (your variables being too related to each other messing up the results). \n",
        "\n",
        "### Exercise 5 ###\n",
        "---\n",
        "\n",
        "Dummy code the categorical columns, removing the first dummy and the original columns. "
      ],
      "id": "a6345893"
    },
    {
      "cell_type": "code",
      "metadata": {
        "id": "3e7d7f63",
        "colab": {
          "base_uri": "https://localhost:8080/",
          "height": 320
        },
        "outputId": "7689f1bc-16bf-495e-da0d-d5b8a370f88b"
      },
      "source": [
        "exam_data_dummy <- dummy_cols(exam_data, select_columns=c('gender', 'ethnicity', 'parental_education', 'lunch', 'preparation_course'), remove_first_dummy = TRUE, remove_selected_columns = TRUE)\n",
        "head(exam_data_dummy)"
      ],
      "id": "3e7d7f63",
      "execution_count": null,
      "outputs": [
        {
          "output_type": "display_data",
          "data": {
            "text/plain": [
              "  math_score reading_score writing_score gender_male ethnicity_group B\n",
              "1 65         76            71            0           0                \n",
              "2 75         72            69            1           0                \n",
              "3 62         56            61            0           1                \n",
              "4 60         60            59            1           0                \n",
              "5 34         54            55            0           0                \n",
              "6 53         66            61            0           1                \n",
              "  ethnicity_group C ethnicity_group D ethnicity_group E\n",
              "1 0                 0                 1                \n",
              "2 1                 0                 0                \n",
              "3 0                 0                 0                \n",
              "4 0                 1                 0                \n",
              "5 1                 0                 0                \n",
              "6 0                 0                 0                \n",
              "  parental_education_bachelor's degree parental_education_high school\n",
              "1 0                                    0                             \n",
              "2 0                                    0                             \n",
              "3 0                                    0                             \n",
              "4 0                                    0                             \n",
              "5 0                                    1                             \n",
              "6 0                                    0                             \n",
              "  parental_education_master's degree parental_education_some college\n",
              "1 0                                  1                              \n",
              "2 0                                  1                              \n",
              "3 0                                  0                              \n",
              "4 0                                  0                              \n",
              "5 0                                  0                              \n",
              "6 0                                  1                              \n",
              "  parental_education_some high school lunch_standard preparation_course_none\n",
              "1 0                                   0              1                      \n",
              "2 0                                   1              0                      \n",
              "3 1                                   0              0                      \n",
              "4 1                                   1              0                      \n",
              "5 0                                   0              0                      \n",
              "6 0                                   0              1                      "
            ],
            "text/latex": "A tibble: 6 × 15\n\\begin{tabular}{lllllllllllllll}\n math\\_score & reading\\_score & writing\\_score & gender\\_male & ethnicity\\_group B & ethnicity\\_group C & ethnicity\\_group D & ethnicity\\_group E & parental\\_education\\_bachelor's degree & parental\\_education\\_high school & parental\\_education\\_master's degree & parental\\_education\\_some college & parental\\_education\\_some high school & lunch\\_standard & preparation\\_course\\_none\\\\\n <dbl> & <dbl> & <dbl> & <int> & <int> & <int> & <int> & <int> & <int> & <int> & <int> & <int> & <int> & <int> & <int>\\\\\n\\hline\n\t 65 & 76 & 71 & 0 & 0 & 0 & 0 & 1 & 0 & 0 & 0 & 1 & 0 & 0 & 1\\\\\n\t 75 & 72 & 69 & 1 & 0 & 1 & 0 & 0 & 0 & 0 & 0 & 1 & 0 & 1 & 0\\\\\n\t 62 & 56 & 61 & 0 & 1 & 0 & 0 & 0 & 0 & 0 & 0 & 0 & 1 & 0 & 0\\\\\n\t 60 & 60 & 59 & 1 & 0 & 0 & 1 & 0 & 0 & 0 & 0 & 0 & 1 & 1 & 0\\\\\n\t 34 & 54 & 55 & 0 & 0 & 1 & 0 & 0 & 0 & 1 & 0 & 0 & 0 & 0 & 0\\\\\n\t 53 & 66 & 61 & 0 & 1 & 0 & 0 & 0 & 0 & 0 & 0 & 1 & 0 & 0 & 1\\\\\n\\end{tabular}\n",
            "text/markdown": "\nA tibble: 6 × 15\n\n| math_score &lt;dbl&gt; | reading_score &lt;dbl&gt; | writing_score &lt;dbl&gt; | gender_male &lt;int&gt; | ethnicity_group B &lt;int&gt; | ethnicity_group C &lt;int&gt; | ethnicity_group D &lt;int&gt; | ethnicity_group E &lt;int&gt; | parental_education_bachelor's degree &lt;int&gt; | parental_education_high school &lt;int&gt; | parental_education_master's degree &lt;int&gt; | parental_education_some college &lt;int&gt; | parental_education_some high school &lt;int&gt; | lunch_standard &lt;int&gt; | preparation_course_none &lt;int&gt; |\n|---|---|---|---|---|---|---|---|---|---|---|---|---|---|---|\n| 65 | 76 | 71 | 0 | 0 | 0 | 0 | 1 | 0 | 0 | 0 | 1 | 0 | 0 | 1 |\n| 75 | 72 | 69 | 1 | 0 | 1 | 0 | 0 | 0 | 0 | 0 | 1 | 0 | 1 | 0 |\n| 62 | 56 | 61 | 0 | 1 | 0 | 0 | 0 | 0 | 0 | 0 | 0 | 1 | 0 | 0 |\n| 60 | 60 | 59 | 1 | 0 | 0 | 1 | 0 | 0 | 0 | 0 | 0 | 1 | 1 | 0 |\n| 34 | 54 | 55 | 0 | 0 | 1 | 0 | 0 | 0 | 1 | 0 | 0 | 0 | 0 | 0 |\n| 53 | 66 | 61 | 0 | 1 | 0 | 0 | 0 | 0 | 0 | 0 | 1 | 0 | 0 | 1 |\n\n",
            "text/html": [
              "<table class=\"dataframe\">\n",
              "<caption>A tibble: 6 × 15</caption>\n",
              "<thead>\n",
              "\t<tr><th scope=col>math_score</th><th scope=col>reading_score</th><th scope=col>writing_score</th><th scope=col>gender_male</th><th scope=col>ethnicity_group B</th><th scope=col>ethnicity_group C</th><th scope=col>ethnicity_group D</th><th scope=col>ethnicity_group E</th><th scope=col>parental_education_bachelor's degree</th><th scope=col>parental_education_high school</th><th scope=col>parental_education_master's degree</th><th scope=col>parental_education_some college</th><th scope=col>parental_education_some high school</th><th scope=col>lunch_standard</th><th scope=col>preparation_course_none</th></tr>\n",
              "\t<tr><th scope=col>&lt;dbl&gt;</th><th scope=col>&lt;dbl&gt;</th><th scope=col>&lt;dbl&gt;</th><th scope=col>&lt;int&gt;</th><th scope=col>&lt;int&gt;</th><th scope=col>&lt;int&gt;</th><th scope=col>&lt;int&gt;</th><th scope=col>&lt;int&gt;</th><th scope=col>&lt;int&gt;</th><th scope=col>&lt;int&gt;</th><th scope=col>&lt;int&gt;</th><th scope=col>&lt;int&gt;</th><th scope=col>&lt;int&gt;</th><th scope=col>&lt;int&gt;</th><th scope=col>&lt;int&gt;</th></tr>\n",
              "</thead>\n",
              "<tbody>\n",
              "\t<tr><td>65</td><td>76</td><td>71</td><td>0</td><td>0</td><td>0</td><td>0</td><td>1</td><td>0</td><td>0</td><td>0</td><td>1</td><td>0</td><td>0</td><td>1</td></tr>\n",
              "\t<tr><td>75</td><td>72</td><td>69</td><td>1</td><td>0</td><td>1</td><td>0</td><td>0</td><td>0</td><td>0</td><td>0</td><td>1</td><td>0</td><td>1</td><td>0</td></tr>\n",
              "\t<tr><td>62</td><td>56</td><td>61</td><td>0</td><td>1</td><td>0</td><td>0</td><td>0</td><td>0</td><td>0</td><td>0</td><td>0</td><td>1</td><td>0</td><td>0</td></tr>\n",
              "\t<tr><td>60</td><td>60</td><td>59</td><td>1</td><td>0</td><td>0</td><td>1</td><td>0</td><td>0</td><td>0</td><td>0</td><td>0</td><td>1</td><td>1</td><td>0</td></tr>\n",
              "\t<tr><td>34</td><td>54</td><td>55</td><td>0</td><td>0</td><td>1</td><td>0</td><td>0</td><td>0</td><td>1</td><td>0</td><td>0</td><td>0</td><td>0</td><td>0</td></tr>\n",
              "\t<tr><td>53</td><td>66</td><td>61</td><td>0</td><td>1</td><td>0</td><td>0</td><td>0</td><td>0</td><td>0</td><td>0</td><td>1</td><td>0</td><td>0</td><td>1</td></tr>\n",
              "</tbody>\n",
              "</table>\n"
            ]
          },
          "metadata": {
            "tags": []
          }
        }
      ]
    },
    {
      "cell_type": "markdown",
      "metadata": {
        "id": "634ad052"
      },
      "source": [
        "### We want to work out if all the independent variables (eg. gender, race, parents education) predict students exam peformance. ###\n",
        "---\n",
        "\n",
        "At the moment, writing, math and reading scores are seperated.   \n",
        "Lets make a new column with the total scores.   \n",
        "\n",
        "To do this we use the ``mutate()`` function \n",
        "\n",
        "``` new_df <- mutate(data, new_column = ....) ```\n",
        "\n",
        "eg: \n",
        "\n",
        "``` new_df <- mutate(data, new_column = column1 / column2) ```  \n",
        "``` new_df <- mutate(data, new_column = column1 + column2) ```  \n",
        "``` new_df <- mutate(data, new_column = column1 * 2) ```  \n",
        "\n",
        "etc..\n",
        "\n",
        "### Exercise 6 ###\n",
        "---\n",
        "\n",
        "Using the mutate function, create a new column called ```total_score``` which contains the sum of each students reading, writing and math scores. "
      ],
      "id": "634ad052"
    },
    {
      "cell_type": "code",
      "metadata": {
        "id": "cd02714d",
        "colab": {
          "base_uri": "https://localhost:8080/",
          "height": 731
        },
        "outputId": "f6c8e505-ecc6-4880-cd01-d249e248c319"
      },
      "source": [
        "exam_data_total <- mutate(exam_data_dummy, total_score = math_score + reading_score + writing_score)\n",
        "summary(exam_data_total)"
      ],
      "id": "cd02714d",
      "execution_count": null,
      "outputs": [
        {
          "output_type": "display_data",
          "data": {
            "text/plain": [
              "   math_score     reading_score    writing_score     gender_male   \n",
              " Min.   : 13.00   Min.   : 16.00   Min.   : 12.00   Min.   :0.000  \n",
              " 1st Qu.: 57.00   1st Qu.: 60.00   1st Qu.: 58.00   1st Qu.:0.000  \n",
              " Median : 67.00   Median : 70.00   Median : 69.00   Median :1.000  \n",
              " Mean   : 66.86   Mean   : 69.72   Mean   : 68.58   Mean   :0.504  \n",
              " 3rd Qu.: 77.00   3rd Qu.: 80.00   3rd Qu.: 80.00   3rd Qu.:1.000  \n",
              " Max.   :100.00   Max.   :100.00   Max.   :100.00   Max.   :1.000  \n",
              " ethnicity_group B ethnicity_group C ethnicity_group D ethnicity_group E\n",
              " Min.   :0.000     Min.   :0.000     Min.   :0.000     Min.   :0.000    \n",
              " 1st Qu.:0.000     1st Qu.:0.000     1st Qu.:0.000     1st Qu.:0.000    \n",
              " Median :0.000     Median :0.000     Median :0.000     Median :0.000    \n",
              " Mean   :0.197     Mean   :0.313     Mean   :0.254     Mean   :0.154    \n",
              " 3rd Qu.:0.000     3rd Qu.:1.000     3rd Qu.:1.000     3rd Qu.:0.000    \n",
              " Max.   :1.000     Max.   :1.000     Max.   :1.000     Max.   :1.000    \n",
              " parental_education_bachelor's degree parental_education_high school\n",
              " Min.   :0.00                         Min.   :0.000                 \n",
              " 1st Qu.:0.00                         1st Qu.:0.000                 \n",
              " Median :0.00                         Median :0.000                 \n",
              " Mean   :0.11                         Mean   :0.195                 \n",
              " 3rd Qu.:0.00                         3rd Qu.:0.000                 \n",
              " Max.   :1.00                         Max.   :1.000                 \n",
              " parental_education_master's degree parental_education_some college\n",
              " Min.   :0.000                      Min.   :0.000                  \n",
              " 1st Qu.:0.000                      1st Qu.:0.000                  \n",
              " Median :0.000                      Median :0.000                  \n",
              " Mean   :0.076                      Mean   :0.244                  \n",
              " 3rd Qu.:0.000                      3rd Qu.:0.000                  \n",
              " Max.   :1.000                      Max.   :1.000                  \n",
              " parental_education_some high school lunch_standard  preparation_course_none\n",
              " Min.   :0.000                       Min.   :0.000   Min.   :0.000          \n",
              " 1st Qu.:0.000                       1st Qu.:0.000   1st Qu.:0.000          \n",
              " Median :0.000                       Median :1.000   Median :1.000          \n",
              " Mean   :0.185                       Mean   :0.647   Mean   :0.638          \n",
              " 3rd Qu.:0.000                       3rd Qu.:1.000   3rd Qu.:1.000          \n",
              " Max.   :1.000                       Max.   :1.000   Max.   :1.000          \n",
              "  total_score   \n",
              " Min.   : 41.0  \n",
              " 1st Qu.:175.0  \n",
              " Median :208.0  \n",
              " Mean   :205.2  \n",
              " 3rd Qu.:236.0  \n",
              " Max.   :300.0  "
            ]
          },
          "metadata": {
            "tags": []
          }
        }
      ]
    },
    {
      "cell_type": "markdown",
      "metadata": {
        "id": "5a5c2c36"
      },
      "source": [
        "### We are now ready to do our multiple linear regression ###\n",
        "---\n",
        "\n",
        "We are looking to find out using our dataset if we can predict student exam performance. \n",
        "\n",
        "Therefore, total_score is our dependent variable (DV) as it can be changed by the other variables \n",
        "\n",
        "Gender, ethnicity, parental_education, lunch and preparation_course are therefore our independent variables (IV) as they cannot be affected by students exam performance.   \n",
        "\n",
        "To do a linear regression, we are going to create a model that tests how significantly the IV's impact the DV.   \n",
        "\n",
        "```\n",
        "regression_model <- lm(DV ~ IV1 + IV2 + IV3..., data = df)\n",
        "summary(regression_model)\n",
        "```\n",
        "\n",
        "The above code does a very similar thing to stats.linregress in python! \n",
        "\n",
        "**Some of the new dummy variable names are seperated by spaces, so to include them enclose them in \\` ` (backtick)**\n",
        "\n",
        "eg. \\` ethnicity_group B `\n",
        "\n",
        "### Exercise 7 ###\n",
        "---\n",
        "Perform a linear regression using total_score as the DV and display the summary data \n"
      ],
      "id": "5a5c2c36"
    },
    {
      "cell_type": "code",
      "metadata": {
        "id": "54c682af",
        "colab": {
          "base_uri": "https://localhost:8080/",
          "height": 833
        },
        "outputId": "d23b4d47-490e-42a1-9d92-1327aca0c7b5"
      },
      "source": [
        "regression_model <- lm(total_score ~ gender_male + `ethnicity_group B` + `ethnicity_group C` + `ethnicity_group D` + `ethnicity_group E` + `parental_education_bachelor's degree` + `parental_education_high school` + `parental_education_master's degree` + `parental_education_some college` + `parental_education_some high school` + lunch_standard + preparation_course_none, data=exam_data_total)\n",
        "summary(regression_model)"
      ],
      "id": "54c682af",
      "execution_count": null,
      "outputs": [
        {
          "output_type": "display_data",
          "data": {
            "text/plain": [
              "\n",
              "Call:\n",
              "lm(formula = total_score ~ gender_male + `ethnicity_group B` + \n",
              "    `ethnicity_group C` + `ethnicity_group D` + `ethnicity_group E` + \n",
              "    `parental_education_bachelor's degree` + `parental_education_high school` + \n",
              "    `parental_education_master's degree` + `parental_education_some college` + \n",
              "    `parental_education_some high school` + lunch_standard + \n",
              "    preparation_course_none, data = exam_data_total)\n",
              "\n",
              "Residuals:\n",
              "     Min       1Q   Median       3Q      Max \n",
              "-163.453  -24.851   -0.639   26.237   82.150 \n",
              "\n",
              "Coefficients:\n",
              "                                       Estimate Std. Error t value\n",
              "(Intercept)                             205.679      5.448  37.754\n",
              "gender_male                             -13.563      2.338  -5.801\n",
              "`ethnicity_group B`                      -6.106      4.865  -1.255\n",
              "`ethnicity_group C`                      -1.030      4.584  -0.225\n",
              "`ethnicity_group D`                      10.552      4.704   2.243\n",
              "`ethnicity_group E`                      24.838      5.050   4.918\n",
              "`parental_education_bachelor's degree`    6.775      4.424   1.531\n",
              "`parental_education_high school`         -7.058      3.775  -1.870\n",
              "`parental_education_master's degree`     21.103      5.023   4.201\n",
              "`parental_education_some college`        -2.525      3.587  -0.704\n",
              "`parental_education_some high school`   -17.693      3.821  -4.631\n",
              "lunch_standard                           27.516      2.441  11.270\n",
              "preparation_course_none                 -21.236      2.434  -8.723\n",
              "                                                   Pr(>|t|)    \n",
              "(Intercept)                            < 0.0000000000000002 ***\n",
              "gender_male                                   0.00000000888 ***\n",
              "`ethnicity_group B`                                  0.2098    \n",
              "`ethnicity_group C`                                  0.8223    \n",
              "`ethnicity_group D`                                  0.0251 *  \n",
              "`ethnicity_group E`                           0.00000102180 ***\n",
              "`parental_education_bachelor's degree`               0.1260    \n",
              "`parental_education_high school`                     0.0618 .  \n",
              "`parental_education_master's degree`          0.00002895863 ***\n",
              "`parental_education_some college`                    0.4818    \n",
              "`parental_education_some high school`         0.00000412882 ***\n",
              "lunch_standard                         < 0.0000000000000002 ***\n",
              "preparation_course_none                < 0.0000000000000002 ***\n",
              "---\n",
              "Signif. codes:  0 ‘***’ 0.001 ‘**’ 0.01 ‘*’ 0.05 ‘.’ 0.1 ‘ ’ 1\n",
              "\n",
              "Residual standard error: 36.86 on 987 degrees of freedom\n",
              "Multiple R-squared:  0.2829,\tAdjusted R-squared:  0.2742 \n",
              "F-statistic: 32.45 on 12 and 987 DF,  p-value: < 0.00000000000000022\n"
            ]
          },
          "metadata": {
            "tags": []
          }
        }
      ]
    },
    {
      "cell_type": "markdown",
      "metadata": {
        "id": "39a48f86"
      },
      "source": [
        "### Lets understand the output ### \n",
        "---\n",
        "\n",
        "**Statistical significance**\n",
        "\n",
        "If something is statistically significant it means that the probability that the hypothesis (the thing your asking) is true/correct, is very very high aka less than 5% chance that the effect on the DV is random. \n",
        "\n",
        "So when reading a regression output, if the p-value (the right hand column) is less than 0.05 then it means it is significant, and more than 95% likely to be affecting the DV. \n",
        "\n",
        "In R, *'s are used to indicate which variables are significantly predicting the dependent variable. \n",
        "\n",
        "**The regression equation** \n",
        "\n",
        "The equation for a line of best fit is y = mx + c or y = slope*x + intercept. \n",
        "\n",
        "y = dependent variable\n",
        "x = independent variable\n",
        "\n",
        "In a multiple linear regression, we have multiple x. \n",
        "\n",
        "The equation is therefore:\n",
        "\n",
        "```y = intercept + slope1*x1 + slope2*x2... ```\n",
        "\n",
        "Each x (IV) has its own slope. \n",
        "\n",
        "**Coefficents (slope)**\n",
        "\n",
        "The estimates column lists all the regression coefficents (slopes) for each variable. What these mean in simple terms is how much the dependent variable is increased or decreased by that variable. These only matter however, if the variable is significant.   \n",
        "\n",
        "So for example, if gender_male was significant (p-value < 0.05) and had a positive coefficent, it would mean that male students were performing significantly better in their exams than female students. Therefore, gender predicted exam performance. A negative coefficent would mean that the score is less for males or rather more for females. \n",
        "\n",
        "**R squared**\n",
        "\n",
        "R^2 is how well your variables explain the variance in value of the dependent variable. So the higher the R^2 value, the better your model explains the change in value of your dependent variable. \n",
        "\n",
        "A low R^2 doesnt necessarily mean that your model is bad, but indicates that the variables in your dataset are not telling the whole story! \n",
        "\n",
        "For example, a R^2 of 0.50 would mean that your data only explains 50% of the change in scores between each student. \n",
        "\n",
        "Essentially it tells you how well your model fits the data. \n",
        "\n",
        "\n",
        "**F-Statistic**\n",
        "\n",
        "It shows results of a complex mathematical formula. But we only need to worry about it's significance! If your F statistic is significant ( p-value < 0.05), it means that when compared with a model which does not have any of the independent variables in it, your model is better. \n",
        "\n",
        "\n",
        "### Exercise 8 ###\n",
        "---\n",
        "\n",
        "Read the regression output and write some comments on the findings. \n",
        "Try to note which variables are significant, and evaluate how well the variables explain student performance. \n"
      ],
      "id": "39a48f86"
    },
    {
      "cell_type": "code",
      "metadata": {
        "id": "99d26544",
        "colab": {
          "base_uri": "https://localhost:8080/",
          "height": 323
        },
        "outputId": "12cbc9bd-3e30-4559-f9db-3ddac754b069"
      },
      "source": [
        "regression_model_v2 <- lm(total_score ~ preparation_course_none , data=exam_data_total)\n",
        "summary(regression_model_v2)"
      ],
      "id": "99d26544",
      "execution_count": null,
      "outputs": [
        {
          "output_type": "display_data",
          "data": {
            "text/plain": [
              "\n",
              "Call:\n",
              "lm(formula = total_score ~ preparation_course_none, data = exam_data_total)\n",
              "\n",
              "Residuals:\n",
              "     Min       1Q   Median       3Q      Max \n",
              "-156.378  -28.378    1.622   29.122   92.622 \n",
              "\n",
              "Coefficients:\n",
              "                        Estimate Std. Error t value             Pr(>|t|)    \n",
              "(Intercept)              218.878      2.209  99.088 < 0.0000000000000002 ***\n",
              "preparation_course_none  -21.501      2.765  -7.775   0.0000000000000188 ***\n",
              "---\n",
              "Signif. codes:  0 ‘***’ 0.001 ‘**’ 0.01 ‘*’ 0.05 ‘.’ 0.1 ‘ ’ 1\n",
              "\n",
              "Residual standard error: 42.03 on 998 degrees of freedom\n",
              "Multiple R-squared:  0.05711,\tAdjusted R-squared:  0.05616 \n",
              "F-statistic: 60.44 on 1 and 998 DF,  p-value: 0.00000000000001878\n"
            ]
          },
          "metadata": {
            "tags": []
          }
        }
      ]
    },
    {
      "cell_type": "markdown",
      "metadata": {
        "id": "e23d1213"
      },
      "source": [
        "### Assumptions ###\n",
        "---\n",
        "\n",
        "Thinking back to the 'testing for normality' worksheet...\n",
        "\n",
        "When we do linear regressions we have to assume that our data is guassian (normally distributed). We therefore now need to test that our assumptions of normality are true and that our model is therefore meaningful. \n",
        "\n",
        "1. linearity :\n",
        "\n",
        "``` plot(model, 1) ```\n",
        "\n",
        "A largely horizontal line at about 0 means that our data has good linearity, meaning our model is good!\n",
        "\n",
        "2. Q-Q plot or P-P plot: \n",
        "\n",
        "``` plot(model, 2) ```\n",
        "\n",
        "The points following a straightish diagonal line means that again we have good normality. \n",
        "\n",
        "\n",
        "### Exercise 9 ###\n",
        "---\n",
        "\n",
        "Check both the assumptions of your model and write a comment with your findings"
      ],
      "id": "e23d1213"
    },
    {
      "cell_type": "code",
      "metadata": {
        "id": "4d1f4186",
        "colab": {
          "base_uri": "https://localhost:8080/",
          "height": 437
        },
        "outputId": "bd8ac04f-d3f7-454f-a380-a62fbb1f620a"
      },
      "source": [
        "plot(regression_model, 2)"
      ],
      "id": "4d1f4186",
      "execution_count": null,
      "outputs": [
        {
          "output_type": "display_data",
          "data": {
            "image/png": "[encoded data removed]",
            "text/plain": [
              "Plot with title “”"
            ]
          },
          "metadata": {
            "tags": [],
            "image/png": {
              "width": 420,
              "height": 420
            }
          }
        }
      ]
    },
    {
      "cell_type": "markdown",
      "metadata": {
        "id": "ZwGSPCR_Dwud"
      },
      "source": [
        "# Exploring the data\n",
        "---\n",
        "\n",
        "In the previous exercises, we only looked at the effect on `total score`. Now that we know that some of our variables did significantly predict student exam scores let's explore it in more detail. \n",
        "\n",
        "### Exercise 10\n",
        "---\n",
        "\n",
        "* Run a regression called `write_mod` using `writing_score` as the DV \n",
        "* Run a regression called `read_mod` using `reading_score` as the DV\n",
        "* Run a regression called `math_mod` using `math_score` as the DV \n",
        "* Compare the results with the model from exercise 7 and comment your findings\n",
        "* Compare the results of each model with each other. What inferences can you \n",
        "make?\n",
        "* Look at the difference in coefficents of significant variables between models - what does it tell you?\n"
      ],
      "id": "ZwGSPCR_Dwud"
    },
    {
      "cell_type": "code",
      "metadata": {
        "id": "nbBN0RoUJQww",
        "colab": {
          "base_uri": "https://localhost:8080/",
          "height": 1000
        },
        "outputId": "bbe1a66f-0227-4972-e945-a85613c2a19e"
      },
      "source": [
        "regression_model <- lm(reading_score ~ gender_male + `ethnicity_group B` + `ethnicity_group C` + `ethnicity_group D` + `ethnicity_group E` + `parental_education_bachelor's degree` + `parental_education_high school` + `parental_education_master's degree` + `parental_education_some college` + `parental_education_some high school` + lunch_standard + preparation_course_none, data=exam_data_total)\n",
        "summary(regression_model)\n",
        "\n",
        "regression_model <- lm(writing_score ~ gender_male + `ethnicity_group B` + `ethnicity_group C` + `ethnicity_group D` + `ethnicity_group E` + `parental_education_bachelor's degree` + `parental_education_high school` + `parental_education_master's degree` + `parental_education_some college` + `parental_education_some high school` + lunch_standard + preparation_course_none, data=exam_data_total)\n",
        "summary(regression_model)\n",
        "\n",
        "regression_model <- lm(math_score ~ gender_male + `ethnicity_group B` + `ethnicity_group C` + `ethnicity_group D` + `ethnicity_group E` + `parental_education_bachelor's degree` + `parental_education_high school` + `parental_education_master's degree` + `parental_education_some college` + `parental_education_some high school` + lunch_standard + preparation_course_none, data=exam_data_total)\n",
        "summary(regression_model)"
      ],
      "id": "nbBN0RoUJQww",
      "execution_count": null,
      "outputs": [
        {
          "output_type": "display_data",
          "data": {
            "text/plain": [
              "\n",
              "Call:\n",
              "lm(formula = reading_score ~ gender_male + `ethnicity_group B` + \n",
              "    `ethnicity_group C` + `ethnicity_group D` + `ethnicity_group E` + \n",
              "    `parental_education_bachelor's degree` + `parental_education_high school` + \n",
              "    `parental_education_master's degree` + `parental_education_some college` + \n",
              "    `parental_education_some high school` + lunch_standard + \n",
              "    preparation_course_none, data = exam_data_total)\n",
              "\n",
              "Residuals:\n",
              "    Min      1Q  Median      3Q     Max \n",
              "-56.925  -8.842   0.034   8.908  30.482 \n",
              "\n",
              "Coefficients:\n",
              "                                       Estimate Std. Error t value\n",
              "(Intercept)                             73.7033     1.8869  39.060\n",
              "gender_male                             -7.9310     0.8098  -9.793\n",
              "`ethnicity_group B`                     -2.4824     1.6852  -1.473\n",
              "`ethnicity_group C`                     -0.9563     1.5877  -0.602\n",
              "`ethnicity_group D`                      1.8834     1.6294   1.156\n",
              "`ethnicity_group E`                      6.1740     1.7491   3.530\n",
              "`parental_education_bachelor's degree`   2.0141     1.5323   1.314\n",
              "`parental_education_high school`        -2.2827     1.3076  -1.746\n",
              "`parental_education_master's degree`     6.2700     1.7398   3.604\n",
              "`parental_education_some college`       -1.0502     1.2425  -0.845\n",
              "`parental_education_some high school`   -5.8497     1.3233  -4.420\n",
              "lunch_standard                           7.4742     0.8456   8.839\n",
              "preparation_course_none                 -6.8531     0.8432  -8.128\n",
              "                                                   Pr(>|t|)    \n",
              "(Intercept)                            < 0.0000000000000002 ***\n",
              "gender_male                            < 0.0000000000000002 ***\n",
              "`ethnicity_group B`                                0.141058    \n",
              "`ethnicity_group C`                                0.547110    \n",
              "`ethnicity_group D`                                0.248001    \n",
              "`ethnicity_group E`                                0.000435 ***\n",
              "`parental_education_bachelor's degree`             0.189014    \n",
              "`parental_education_high school`                   0.081172 .  \n",
              "`parental_education_master's degree`               0.000329 ***\n",
              "`parental_education_some college`                  0.398198    \n",
              "`parental_education_some high school`    0.0000109426642323 ***\n",
              "lunch_standard                         < 0.0000000000000002 ***\n",
              "preparation_course_none                  0.0000000000000013 ***\n",
              "---\n",
              "Signif. codes:  0 ‘***’ 0.001 ‘**’ 0.01 ‘*’ 0.05 ‘.’ 0.1 ‘ ’ 1\n",
              "\n",
              "Residual standard error: 12.77 on 987 degrees of freedom\n",
              "Multiple R-squared:  0.2635,\tAdjusted R-squared:  0.2546 \n",
              "F-statistic: 29.43 on 12 and 987 DF,  p-value: < 0.00000000000000022\n"
            ]
          },
          "metadata": {
            "tags": []
          }
        },
        {
          "output_type": "display_data",
          "data": {
            "text/plain": [
              "\n",
              "Call:\n",
              "lm(formula = writing_score ~ gender_male + `ethnicity_group B` + \n",
              "    `ethnicity_group C` + `ethnicity_group D` + `ethnicity_group E` + \n",
              "    `parental_education_bachelor's degree` + `parental_education_high school` + \n",
              "    `parental_education_master's degree` + `parental_education_some college` + \n",
              "    `parental_education_some high school` + lunch_standard + \n",
              "    preparation_course_none, data = exam_data_total)\n",
              "\n",
              "Residuals:\n",
              "    Min      1Q  Median      3Q     Max \n",
              "-56.981  -8.215   0.005   8.865  29.533 \n",
              "\n",
              "Coefficients:\n",
              "                                       Estimate Std. Error t value\n",
              "(Intercept)                             73.8532     1.8360  40.224\n",
              "gender_male                             -9.6656     0.7880 -12.266\n",
              "`ethnicity_group B`                     -2.0515     1.6398  -1.251\n",
              "`ethnicity_group C`                     -0.2992     1.5449  -0.194\n",
              "`ethnicity_group D`                      4.5199     1.5855   2.851\n",
              "`ethnicity_group E`                      6.7175     1.7020   3.947\n",
              "`parental_education_bachelor's degree`   2.7716     1.4910   1.859\n",
              "`parental_education_high school`        -3.0568     1.2724  -2.402\n",
              "`parental_education_master's degree`     6.9218     1.6929   4.089\n",
              "`parental_education_some college`       -0.9651     1.2090  -0.798\n",
              "`parental_education_some high school`   -7.0965     1.2877  -5.511\n",
              "lunch_standard                           8.3003     0.8228  10.087\n",
              "preparation_course_none                 -9.6351     0.8205 -11.744\n",
              "                                                   Pr(>|t|)    \n",
              "(Intercept)                            < 0.0000000000000002 ***\n",
              "gender_male                            < 0.0000000000000002 ***\n",
              "`ethnicity_group B`                                 0.21120    \n",
              "`ethnicity_group C`                                 0.84647    \n",
              "`ethnicity_group D`                                 0.00445 ** \n",
              "`ethnicity_group E`                            0.0000847953 ***\n",
              "`parental_education_bachelor's degree`              0.06334 .  \n",
              "`parental_education_high school`                    0.01647 *  \n",
              "`parental_education_master's degree`           0.0000469211 ***\n",
              "`parental_education_some college`                   0.42492    \n",
              "`parental_education_some high school`          0.0000000455 ***\n",
              "lunch_standard                         < 0.0000000000000002 ***\n",
              "preparation_course_none                < 0.0000000000000002 ***\n",
              "---\n",
              "Signif. codes:  0 ‘***’ 0.001 ‘**’ 0.01 ‘*’ 0.05 ‘.’ 0.1 ‘ ’ 1\n",
              "\n",
              "Residual standard error: 12.42 on 987 degrees of freedom\n",
              "Multiple R-squared:  0.3598,\tAdjusted R-squared:  0.352 \n",
              "F-statistic: 46.23 on 12 and 987 DF,  p-value: < 0.00000000000000022\n"
            ]
          },
          "metadata": {
            "tags": []
          }
        },
        {
          "output_type": "display_data",
          "data": {
            "text/plain": [
              "\n",
              "Call:\n",
              "lm(formula = math_score ~ gender_male + `ethnicity_group B` + \n",
              "    `ethnicity_group C` + `ethnicity_group D` + `ethnicity_group E` + \n",
              "    `parental_education_bachelor's degree` + `parental_education_high school` + \n",
              "    `parental_education_master's degree` + `parental_education_some college` + \n",
              "    `parental_education_some high school` + lunch_standard + \n",
              "    preparation_course_none, data = exam_data_total)\n",
              "\n",
              "Residuals:\n",
              "    Min      1Q  Median      3Q     Max \n",
              "-49.546  -8.603   0.344   9.389  32.366 \n",
              "\n",
              "Coefficients:\n",
              "                                       Estimate Std. Error t value\n",
              "(Intercept)                             58.1226     1.8929  30.705\n",
              "gender_male                              4.0336     0.8124   4.965\n",
              "`ethnicity_group B`                     -1.5724     1.6906  -0.930\n",
              "`ethnicity_group C`                      0.2255     1.5928   0.142\n",
              "`ethnicity_group D`                      4.1487     1.6346   2.538\n",
              "`ethnicity_group E`                     11.9464     1.7547   6.808\n",
              "`parental_education_bachelor's degree`   1.9889     1.5372   1.294\n",
              "`parental_education_high school`        -1.7189     1.3118  -1.310\n",
              "`parental_education_master's degree`     7.9115     1.7454   4.533\n",
              "`parental_education_some college`       -0.5093     1.2465  -0.409\n",
              "`parental_education_some high school`   -4.7466     1.3275  -3.575\n",
              "lunch_standard                          11.7418     0.8483  13.841\n",
              "preparation_course_none                 -4.7482     0.8459  -5.613\n",
              "                                                   Pr(>|t|)    \n",
              "(Intercept)                            < 0.0000000000000002 ***\n",
              "gender_male                                 0.0000008093932 ***\n",
              "`ethnicity_group B`                                0.352563    \n",
              "`ethnicity_group C`                                0.887448    \n",
              "`ethnicity_group D`                                0.011299 *  \n",
              "`ethnicity_group E`                         0.0000000000171 ***\n",
              "`parental_education_bachelor's degree`             0.196023    \n",
              "`parental_education_high school`                   0.190384    \n",
              "`parental_education_master's degree`        0.0000065332307 ***\n",
              "`parental_education_some college`                  0.682945    \n",
              "`parental_education_some high school`              0.000367 ***\n",
              "lunch_standard                         < 0.0000000000000002 ***\n",
              "preparation_course_none                     0.0000000257810 ***\n",
              "---\n",
              "Signif. codes:  0 ‘***’ 0.001 ‘**’ 0.01 ‘*’ 0.05 ‘.’ 0.1 ‘ ’ 1\n",
              "\n",
              "Residual standard error: 12.81 on 987 degrees of freedom\n",
              "Multiple R-squared:  0.3006,\tAdjusted R-squared:  0.2921 \n",
              "F-statistic: 35.35 on 12 and 987 DF,  p-value: < 0.00000000000000022\n"
            ]
          },
          "metadata": {
            "tags": []
          }
        }
      ]
    },
    {
      "cell_type": "markdown",
      "metadata": {
        "id": "JgibNCXnKvHE"
      },
      "source": [
        "# Reflection\n",
        "----\n",
        "\n",
        "## What skills have you demonstrated in completing this notebook?"
      ],
      "id": "JgibNCXnKvHE"
    },
    {
      "cell_type": "markdown",
      "metadata": {
        "id": "PWZ6NctwKv88"
      },
      "source": [
        "Your answer:"
      ],
      "id": "PWZ6NctwKv88"
    },
    {
      "cell_type": "markdown",
      "metadata": {
        "id": "Y4SWfDOCKz34"
      },
      "source": [
        "## What caused you the most difficulty?"
      ],
      "id": "Y4SWfDOCKz34"
    },
    {
      "cell_type": "markdown",
      "metadata": {
        "id": "Y84WximLK0gL"
      },
      "source": [
        "Your answer:"
      ],
      "id": "Y84WximLK0gL"
    }
  ]
}