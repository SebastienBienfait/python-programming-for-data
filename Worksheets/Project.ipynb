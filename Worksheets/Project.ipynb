{
  "nbformat": 4,
  "nbformat_minor": 0,
  "metadata": {
    "colab": {
      "name": "Project.ipynb",
      "provenance": [],
      "authorship_tag": "ABX9TyOSoBDm9I55A4WAtXwbGf/U",
      "include_colab_link": true
    },
    "kernelspec": {
      "name": "python3",
      "display_name": "Python 3"
    },
    "language_info": {
      "name": "python"
    }
  },
  "cells": [
    {
      "cell_type": "markdown",
      "metadata": {
        "id": "view-in-github",
        "colab_type": "text"
      },
      "source": [
        "<a href=\"https://colab.research.google.com/github/futureCodersSE/python-programming-for-data/blob/main/Worksheets/Project.ipynb\" target=\"_parent\"><img src=\"https://colab.research.google.com/assets/colab-badge.svg\" alt=\"Open In Colab\"/></a>"
      ]
    },
    {
      "cell_type": "markdown",
      "metadata": {
        "id": "cVTZVHSuncS3"
      },
      "source": [
        "# Student scores project\n",
        "---\n",
        "\n",
        "The data set at this link, https://raw.githubusercontent.com/lilaceri/Working-with-data-/main/Data%20Sets%20for%20code%20divisio/student_scores.csv, contains data about a set of students.  Each student gained a score in a test and recorded the number of hours of study they did in preparation.\n",
        "\n",
        "Using pandas and numpy, read the data, sort the data, find some summary statistics to answer a set of questions:\n",
        "\n",
        "*  how long, on average, did students spend on study?\n",
        "*  what is the range of scores?\n",
        "*  does the number of hours of study correlate with test scores?"
      ]
    },
    {
      "cell_type": "code",
      "metadata": {
        "id": "2kIdSHUSnWoC"
      },
      "source": [
        "import pandas as pd\n"
      ],
      "execution_count": null,
      "outputs": []
    },
    {
      "cell_type": "markdown",
      "metadata": {
        "id": "dVgEMXoasSgs"
      },
      "source": [
        "Information about the scores/study hours data\n",
        "---"
      ]
    },
    {
      "cell_type": "code",
      "metadata": {
        "id": "GRWIpQE1saGk"
      },
      "source": [
        ""
      ],
      "execution_count": null,
      "outputs": []
    },
    {
      "cell_type": "markdown",
      "metadata": {
        "id": "7ref5MT6sbOg"
      },
      "source": [
        "Sorted data\n",
        "---\n"
      ]
    },
    {
      "cell_type": "code",
      "metadata": {
        "id": "yXeJ0tF_skWO"
      },
      "source": [
        ""
      ],
      "execution_count": null,
      "outputs": []
    },
    {
      "cell_type": "markdown",
      "metadata": {
        "id": "xXQe-iUHsoLX"
      },
      "source": [
        "How long, on average, did students spend on study?\n",
        "---"
      ]
    },
    {
      "cell_type": "code",
      "metadata": {
        "id": "x1OR0vYWswHc"
      },
      "source": [
        ""
      ],
      "execution_count": null,
      "outputs": []
    },
    {
      "cell_type": "markdown",
      "metadata": {
        "id": "WzE9Aj2hsqTO"
      },
      "source": [
        "What is the range of scores?\n",
        "---\n"
      ]
    },
    {
      "cell_type": "code",
      "metadata": {
        "id": "4C4hcd_Es0fl"
      },
      "source": [
        ""
      ],
      "execution_count": null,
      "outputs": []
    },
    {
      "cell_type": "markdown",
      "metadata": {
        "id": "T14WwykSs0un"
      },
      "source": [
        "Does the number of hours of study correlate with score?\n",
        "---\n"
      ]
    },
    {
      "cell_type": "code",
      "metadata": {
        "id": "e0wQznCCs96S"
      },
      "source": [
        ""
      ],
      "execution_count": null,
      "outputs": []
    },
    {
      "cell_type": "markdown",
      "metadata": {
        "id": "fbhJ8wUEs-Ia"
      },
      "source": [
        "Show the data in a scatter plot\n",
        "---\n"
      ]
    },
    {
      "cell_type": "code",
      "metadata": {
        "id": "70FMyLJ2tFVm"
      },
      "source": [
        ""
      ],
      "execution_count": null,
      "outputs": []
    },
    {
      "cell_type": "markdown",
      "metadata": {
        "id": "AFjswpvmtFpR"
      },
      "source": [
        "Summarise what you have learnt from the data\n",
        "---\n",
        "\n",
        "**Edit here**"
      ]
    },
    {
      "cell_type": "code",
      "metadata": {
        "id": "GpJC-Wk8t1lC"
      },
      "source": [
        ""
      ],
      "execution_count": null,
      "outputs": []
    },
    {
      "cell_type": "markdown",
      "metadata": {
        "id": "pzmgeusot3PF"
      },
      "source": [
        "Is there anything else you can show from this data?\n",
        "---\n"
      ]
    },
    {
      "cell_type": "code",
      "metadata": {
        "id": "4dCcLSm0t2NY"
      },
      "source": [
        ""
      ],
      "execution_count": null,
      "outputs": []
    }
  ]
}